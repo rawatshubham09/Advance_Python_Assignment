{
 "cells": [
  {
   "cell_type": "markdown",
   "id": "b0f0c62c",
   "metadata": {},
   "source": [
    "# Assignment 4"
   ]
  },
  {
   "cell_type": "markdown",
   "id": "47849a55",
   "metadata": {},
   "source": [
    "-  The function fastFib(num) returns the fibonacci number Fn, of the given num as an argument."
   ]
  },
  {
   "cell_type": "code",
   "execution_count": 2,
   "id": "eddbc8b0",
   "metadata": {},
   "outputs": [],
   "source": [
    "def fib(n, dic = {1: 0 , 2 : 1}):\n",
    "    if n not in dic:\n",
    "        dic[n] = fib(n-1, dic) + fib(n-2, dic)\n",
    "    return dic[n]"
   ]
  },
  {
   "cell_type": "code",
   "execution_count": 4,
   "id": "99750122",
   "metadata": {},
   "outputs": [
    {
     "name": "stdout",
     "output_type": "stream",
     "text": [
      "\n",
      "Time taken to calculate 400 th fibonacci number is : 1.000457525253296 sec and its value is\n",
      "108788617463475645289761992289049744844995705477812699099751202749393926359816304226\n",
      "\n",
      "-*--*--*--*--*--*--*--*--*--*--*--*--*--*--*--*--*--*--*--*--*--*--*--*--*--*--*--*--*--*-\n",
      "\n",
      "Time taken to calculate 450 th fibonacci number is : 1.000244140625 sec and its value is\n",
      "3061719992484545030554313848083717208111285432353738497131674799321571238149015933442805665949\n",
      "\n",
      "-*--*--*--*--*--*--*--*--*--*--*--*--*--*--*--*--*--*--*--*--*--*--*--*--*--*--*--*--*--*-\n",
      "\n",
      "Time taken to calculate 500 th fibonacci number is : 1.000044584274292 sec and its value is\n",
      "86168291600238450732788312165664788095941068326060883324529903470149056115823592713458328176574447204501\n",
      "\n",
      "-*--*--*--*--*--*--*--*--*--*--*--*--*--*--*--*--*--*--*--*--*--*--*--*--*--*--*--*--*--*-\n",
      "\n",
      "Time taken to calculate 350 th fibonacci number is : 1.0009989738464355 sec and its value is\n",
      "3865462327928467072415604609040860366007401579690263197296200323999931849\n",
      "\n",
      "-*--*--*--*--*--*--*--*--*--*--*--*--*--*--*--*--*--*--*--*--*--*--*--*--*--*--*--*--*--*-\n",
      "\n",
      "Time taken to calculate 1000 th fibonacci number is : 1.0004923343658447 sec and its value is\n",
      "26863810024485359386146727202142923967616609318986952340123175997617981700247881689338369654483356564191827856161443356312976673642210350324634850410377680367334151172899169723197082763985615764450078474174626\n",
      "\n",
      "-*--*--*--*--*--*--*--*--*--*--*--*--*--*--*--*--*--*--*--*--*--*--*--*--*--*--*--*--*--*-\n"
     ]
    }
   ],
   "source": [
    "import time\n",
    "\n",
    "test_val = [400, 450, 500 , 350, 1000]\n",
    "for i in test_val:\n",
    "    a = time.time()\n",
    "    val = fib(i)\n",
    "    time.sleep(1) # Adding 1 sec pose to watch change in time so reduce 1 from answer\n",
    "    b = time.time()\n",
    "    print()\n",
    "    print(\"Time taken to calculate\",i,\"th fibonacci number is :\", b-a,\"sec and its value is\")\n",
    "    print(val)\n",
    "    print()\n",
    "    print(\"-*-\"*30)"
   ]
  },
  {
   "cell_type": "markdown",
   "id": "403221ca",
   "metadata": {},
   "source": [
    "- 2. Create a function that takes a strings characters as ASCII and returns each characters hexadecimal value as a string."
   ]
  },
  {
   "cell_type": "code",
   "execution_count": 16,
   "id": "73b623f1",
   "metadata": {},
   "outputs": [],
   "source": [
    "def convert_to_hex(st):\n",
    "    '''\n",
    "    This Functon take a string value and return its hex value seperated by space\n",
    "    '''\n",
    "    ans_st = \"\"\n",
    "    for i in st:\n",
    "        ans_st += format(ord(i), 'x') + \" \"\n",
    "    return ans_st"
   ]
  },
  {
   "cell_type": "code",
   "execution_count": 17,
   "id": "763d5f53",
   "metadata": {},
   "outputs": [
    {
     "name": "stdout",
     "output_type": "stream",
     "text": [
      "\n",
      "Hello THis is TO Test ----> 48 65 6c 6c 6f 20 54 48 69 73 20 69 73 20 54 4f 20 54 65 73 74 \n",
      "\n",
      "\n",
      "Values are executed easily ----> 56 61 6c 75 65 73 20 61 72 65 20 65 78 65 63 75 74 65 64 20 65 61 73 69 6c 79 \n",
      "\n",
      "\n",
      "format function is cool ----> 66 6f 72 6d 61 74 20 66 75 6e 63 74 69 6f 6e 20 69 73 20 63 6f 6f 6c \n",
      "\n"
     ]
    }
   ],
   "source": [
    "test_st = [\"Hello THis is TO Test\", \"Values are executed easily\", \"format function is cool\"]\n",
    "for st in test_st:\n",
    "    print()\n",
    "    print(st, \"---->\", convert_to_hex(st))\n",
    "    print()"
   ]
  },
  {
   "cell_type": "markdown",
   "id": "f52ca7c2",
   "metadata": {},
   "source": [
    "- 3. Someone has attempted to censor my strings by replacing every vowel with a *, l*k* th*s. Luckily, I've been able to find the vowels that were removed.\n",
    "\n",
    "    Given a censored string and a string of the censored vowels, return the original uncensored string.\n"
   ]
  },
  {
   "cell_type": "code",
   "execution_count": 26,
   "id": "160aa617",
   "metadata": {},
   "outputs": [],
   "source": [
    "def uncensor(st, ins): # strig, insert\n",
    "    \"\"\"\n",
    "        This Function will take two values fist orignial string and second replaced value and return corrected string\n",
    "    \"\"\"\n",
    "    for i in ins:\n",
    "        st = st.replace(\"*\", i,1)\n",
    "    return st"
   ]
  },
  {
   "cell_type": "code",
   "execution_count": 27,
   "id": "a3c6e3cf",
   "metadata": {},
   "outputs": [
    {
     "name": "stdout",
     "output_type": "stream",
     "text": [
      "Where did my vowels go?\n",
      "abcd\n",
      "UPPERCASE\n"
     ]
    }
   ],
   "source": [
    "test = [[\"Wh*r* d*d my v*w*ls g*?\", \"eeioeo\"], [\"abcd\", \"\"], [\"*PP*RC*S*\", \"UEAE\"]]\n",
    "for a,b in test:\n",
    "    print(uncensor(a,b))"
   ]
  },
  {
   "cell_type": "markdown",
   "id": "6265b33a",
   "metadata": {},
   "source": [
    "- 4. Write a function that takes an IP address and returns the domain name using PTR DNS records."
   ]
  },
  {
   "cell_type": "code",
   "execution_count": 1,
   "id": "4c1d036b",
   "metadata": {},
   "outputs": [],
   "source": [
    "import socket\n",
    "\n",
    "def get_domain_name(ip_address):\n",
    "    \"\"\"\n",
    "        This Function gen an ip address and return its dns\n",
    "    \"\"\"\n",
    "    result=socket.gethostbyaddr(ip_address)\n",
    "    return list(result)[0]"
   ]
  },
  {
   "cell_type": "code",
   "execution_count": 2,
   "id": "eba9e7ed",
   "metadata": {},
   "outputs": [
    {
     "name": "stdout",
     "output_type": "stream",
     "text": [
      "8.8.8.8  its DNS :-  dns.google\n",
      "8.8.4.4  its DNS :-  dns.google\n",
      "23.23.212.126  its DNS :-  ec2-23-23-212-126.compute-1.amazonaws.com\n"
     ]
    }
   ],
   "source": [
    "test = [\"8.8.8.8\", \"8.8.4.4\",\"23.23.212.126\"]\n",
    "for i in test:\n",
    "    print(i, \" its DNS :- \", get_domain_name(i))"
   ]
  },
  {
   "cell_type": "markdown",
   "id": "b453f8c4",
   "metadata": {},
   "source": [
    "- 5. Create a function that takes an integer n and returns the factorial of factorials. See below examples for a better understanding:"
   ]
  },
  {
   "cell_type": "markdown",
   "id": "27417ef3",
   "metadata": {},
   "source": [
    "fact_of_fact(4) ➞  4! * 3! * 2! * 1! = 288\n"
   ]
  },
  {
   "cell_type": "code",
   "execution_count": 7,
   "id": "04e7a863",
   "metadata": {},
   "outputs": [],
   "source": [
    "def fact(num):\n",
    "    \"\"\"This is Factorial function\"\"\"\n",
    "    if num in [0,1]:\n",
    "        return 1\n",
    "    return num*fact(num-1)\n",
    "\n",
    "def fact_of_fact(nums):\n",
    "    #This Function will take a number and return fact of fact\n",
    "    val = 1\n",
    "    while nums:\n",
    "        val *= fact(nums)\n",
    "        nums -= 1\n",
    "    return val"
   ]
  },
  {
   "cell_type": "code",
   "execution_count": 8,
   "id": "dc66d0d4",
   "metadata": {},
   "outputs": [
    {
     "data": {
      "text/plain": [
       "288"
      ]
     },
     "execution_count": 8,
     "metadata": {},
     "output_type": "execute_result"
    }
   ],
   "source": [
    "fact_of_fact(4)"
   ]
  }
 ],
 "metadata": {
  "kernelspec": {
   "display_name": "Python 3 (ipykernel)",
   "language": "python",
   "name": "python3"
  },
  "language_info": {
   "codemirror_mode": {
    "name": "ipython",
    "version": 3
   },
   "file_extension": ".py",
   "mimetype": "text/x-python",
   "name": "python",
   "nbconvert_exporter": "python",
   "pygments_lexer": "ipython3",
   "version": "3.9.7"
  }
 },
 "nbformat": 4,
 "nbformat_minor": 5
}
