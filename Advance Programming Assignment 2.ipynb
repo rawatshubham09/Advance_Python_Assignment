{
 "cells": [
  {
   "cell_type": "markdown",
   "id": "083e7ded",
   "metadata": {},
   "source": [
    "# Assignment 2"
   ]
  },
  {
   "cell_type": "markdown",
   "id": "cba0b853",
   "metadata": {},
   "source": [
    "- . Write a function that takes a positive integer num and calculates how many dots exist in a pentagonal shape around the center dot on the Nth iteration.\n",
    "        Examples\n",
    "\n",
    "        pentagonal(1) ➞ 1\n",
    "\n",
    "        pentagonal(2) ➞ 6\n",
    "\n",
    "        pentagonal(3) ➞ 16\n",
    "\n",
    "        pentagonal(8) ➞ 141"
   ]
  },
  {
   "cell_type": "code",
   "execution_count": 1,
   "id": "7a88a47e",
   "metadata": {},
   "outputs": [],
   "source": [
    "def pentagonal(num):\n",
    "    summ = 1\n",
    "    for i in range(1,num):\n",
    "        summ += i*5\n",
    "    return int(summ)"
   ]
  },
  {
   "cell_type": "code",
   "execution_count": 2,
   "id": "1132db4f",
   "metadata": {},
   "outputs": [
    {
     "name": "stdout",
     "output_type": "stream",
     "text": [
      "1   :   1\n",
      "2   :   6\n",
      "3   :   16\n",
      "8   :   141\n",
      "15   :   526\n"
     ]
    }
   ],
   "source": [
    "test = [1,2,3,8,15]\n",
    "for i in test:\n",
    "    print(i, \"  :  \", pentagonal(i))"
   ]
  },
  {
   "cell_type": "markdown",
   "id": "15a39ac0",
   "metadata": {},
   "source": [
    " - 2.  Make a function that encrypts a given input with these steps:\n",
    "\n",
    "Input: \"apple\"\n",
    "\n",
    "    Step 1: Reverse the input: \"elppa\"\n",
    "    Step 2: Replace all vowels using the following chart: {'a' :0, 'e': 1, 'i': 2,'o': 2,'u': 3}       # \"1lpp0\"\n",
    "    Step 3: Add \"aca\" to the end of the word: \"1lpp0aca\"\n",
    "    Output: \"1lpp0aca\"\n",
    "    Examples\n",
    "        encrypt(\"banana\") ➞ \"0n0n0baca\"\n",
    "        encrypt(\"karaca\") ➞ \"0c0r0kaca\"\n",
    "        encrypt(\"burak\") ➞ \"k0r3baca\"\n",
    "        encrypt(\"alpaca\") ➞ \"0c0pl0aca\""
   ]
  },
  {
   "cell_type": "code",
   "execution_count": 3,
   "id": "c714c006",
   "metadata": {},
   "outputs": [],
   "source": [
    "def encrypt(st):\n",
    "    '''\n",
    "        This Function Take a Single String amd reverse it,then Replace All vowels with given values and concatinate \"aca\" at the end \n",
    "        and return the new string:\n",
    "    '''\n",
    "    dic = {'a' :'0', 'e': '1', 'i': '2','o': '2','u': '3'}\n",
    "    st, nst = st[::-1], \"\"   #Reversing the string and creating a new variable(string)\n",
    "    for i in st:\n",
    "        if i in dic.keys():\n",
    "            nst += dic[i]\n",
    "        else:\n",
    "            nst += i\n",
    "    return nst + \"aca\""
   ]
  },
  {
   "cell_type": "code",
   "execution_count": 4,
   "id": "373574aa",
   "metadata": {},
   "outputs": [
    {
     "name": "stdout",
     "output_type": "stream",
     "text": [
      "banana  -- encrypted text -->  0n0n0baca\n",
      "karaca  -- encrypted text -->  0c0r0kaca\n",
      "burak  -- encrypted text -->  k0r3baca\n",
      "alpaca  -- encrypted text -->  0c0pl0aca\n"
     ]
    }
   ],
   "source": [
    "text = [\"banana\", \"karaca\", \"burak\",\"alpaca\"]\n",
    "for st in text:\n",
    "    print(st, \" -- encrypted text --> \", encrypt(st))"
   ]
  },
  {
   "cell_type": "markdown",
   "id": "f48063c9",
   "metadata": {},
   "source": [
    "- 3. Given the month and year as numbers, return whether that month contains a Friday 13th.(i.e You can check Python's datetime module)\n",
    "\n",
    "        Examples\n",
    "\n",
    "            has_friday_13(3, 2020) ➞ True\n",
    "            has_friday_13(10, 2017) ➞ True\n",
    "            has_friday_13(1, 1985) ➞ False"
   ]
  },
  {
   "cell_type": "code",
   "execution_count": 5,
   "id": "29ad350b",
   "metadata": {},
   "outputs": [],
   "source": [
    "import datetime   \n",
    "\n",
    "def has_friday_13(mm, yy):  \n",
    "    return True if datetime.datetime.strptime('13 '+' '+str(mm)+' '+str(yy), '%d %m %Y').weekday()==4 else False"
   ]
  },
  {
   "cell_type": "code",
   "execution_count": 6,
   "id": "d6bacfc4",
   "metadata": {},
   "outputs": [
    {
     "name": "stdout",
     "output_type": "stream",
     "text": [
      "True\n",
      "True\n",
      "False\n"
     ]
    }
   ],
   "source": [
    "mm_yy = [[3, 2020], [10, 2017], [1, 1985]]\n",
    "for mm, yy in mm_yy:\n",
    "    print(has_friday_13(mm,yy))"
   ]
  },
  {
   "cell_type": "markdown",
   "id": "c8b8d0a1",
   "metadata": {},
   "source": [
    "- 4. Write a regular expression that will help us count how many bad cookies are produced every day. You must use RegEx negative lookbehind.\n",
    "\n",
    "    Example\n",
    "\n",
    "        lst = [\"bad cookie\", \"good cookie\", \"bad cookie\", \"good cookie\", \"good cookie\"]\n",
    "        \n",
    "        pattern = \"yourregularexpressionhere\"\n",
    "\n",
    "        len(re.findall(pattern, \", \".join(lst))) ➞ 2\n"
   ]
  },
  {
   "cell_type": "code",
   "execution_count": 15,
   "id": "456e8c05",
   "metadata": {},
   "outputs": [],
   "source": [
    "import re\n",
    "\n",
    "def cookie(lis):\n",
    "    '''\n",
    "        This Function will take a list of cookee data(str value) and return no. of bad cookie in it using regular exp\n",
    "    '''\n",
    "    patt = r\"(?P<name>bad cookie)\"\n",
    "    l = len(re.findall(patt, \", \".join(lis)))\n",
    "    return l"
   ]
  },
  {
   "cell_type": "code",
   "execution_count": 16,
   "id": "528a8e23",
   "metadata": {},
   "outputs": [
    {
     "name": "stdout",
     "output_type": "stream",
     "text": [
      "2\n",
      "4\n",
      "4\n"
     ]
    }
   ],
   "source": [
    "test_lis = [[\"bad cookie\", \"good cookie\", \"bad cookie\", \"good cookie\", \"good cookie\"], \n",
    "            [\"bad cookie\", \"good cookie\", \"bad cookie\", \"good cookie\", \"good cookie\",\"bad cookie\", \"good cookie\", \"bad cookie\", \"good cookie\", \"good cookie\"],\n",
    "           [\"bad cookie\", \"bad cookie\", \"bad cookie\", \"bad cookie\"]]\n",
    "for lis in test_lis:\n",
    "    print(cookie(lis))"
   ]
  },
  {
   "cell_type": "markdown",
   "id": "fb346167",
   "metadata": {},
   "source": [
    "- 5. Given a list of words in the singular form, return a set of those words in the plural form if they appear more than once in the list.\n",
    "\n",
    "    Examples\n",
    "\n",
    "    pluralize([\"cow\", \"pig\", \"cow\", \"cow\"]) ➞ { \"cows\", \"pig\" }\n",
    "\n",
    "    pluralize([\"table\", \"table\", \"table\"]) ➞ { \"tables\" }\n",
    "\n",
    "    pluralize([\"chair\", \"pencil\", \"arm\"]) ➞ { \"chair\", \"pencil\", \"arm\" }\n"
   ]
  },
  {
   "cell_type": "code",
   "execution_count": 17,
   "id": "47e3fd1e",
   "metadata": {},
   "outputs": [],
   "source": [
    "def pluralize(lis):\n",
    "    '''\n",
    "        This Function will take a list and return value in plural form in they are more then one\n",
    "    '''\n",
    "    new_lis = []\n",
    "    uniq = set(lis)\n",
    "    for i in uniq:\n",
    "        count = lis.count(i)\n",
    "        if count > 1:\n",
    "            new_lis.append(i + \"s\")\n",
    "        else:\n",
    "            new_lis.append(i)\n",
    "    return new_lis"
   ]
  },
  {
   "cell_type": "code",
   "execution_count": 18,
   "id": "0f69fae0",
   "metadata": {},
   "outputs": [
    {
     "name": "stdout",
     "output_type": "stream",
     "text": [
      "['arm', 'chair', 'pencil']\n",
      "['tables']\n",
      "['pig', 'cows']\n"
     ]
    }
   ],
   "source": [
    "lists = [[\"chair\", \"pencil\", \"arm\"], [\"table\", \"table\", \"table\"], [\"cow\", \"pig\", \"cow\", \"cow\"]]\n",
    "for lis in lists:\n",
    "    print(pluralize(lis))"
   ]
  }
 ],
 "metadata": {
  "kernelspec": {
   "display_name": "Python 3 (ipykernel)",
   "language": "python",
   "name": "python3"
  },
  "language_info": {
   "codemirror_mode": {
    "name": "ipython",
    "version": 3
   },
   "file_extension": ".py",
   "mimetype": "text/x-python",
   "name": "python",
   "nbconvert_exporter": "python",
   "pygments_lexer": "ipython3",
   "version": "3.9.7"
  }
 },
 "nbformat": 4,
 "nbformat_minor": 5
}
