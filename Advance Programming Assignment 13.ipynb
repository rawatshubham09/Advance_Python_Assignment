{
 "cells": [
  {
   "cell_type": "markdown",
   "id": "30b6a837",
   "metadata": {},
   "source": [
    "# Assignment 13"
   ]
  },
  {
   "cell_type": "markdown",
   "id": "2eb7b3d4",
   "metadata": {},
   "source": [
    "1. Create a function that takes a list and string. The function should remove the letters in the string from the list, and return the list."
   ]
  },
  {
   "cell_type": "code",
   "execution_count": 17,
   "id": "5ff6aba2",
   "metadata": {},
   "outputs": [],
   "source": [
    "def remove_letters(lis, string):\n",
    "    l = len(lis)\n",
    "    a_lis = lis.copy()\n",
    "    for i in range(l):\n",
    "        ch = lis[i]\n",
    "        if ch in string:\n",
    "            a_lis.remove(ch)\n",
    "            string.replace(\"ch\",\"\",1)\n",
    "    return a_lis"
   ]
  },
  {
   "cell_type": "code",
   "execution_count": 18,
   "id": "7bf5f6a5",
   "metadata": {},
   "outputs": [
    {
     "data": {
      "text/plain": [
       "['w']"
      ]
     },
     "execution_count": 18,
     "metadata": {},
     "output_type": "execute_result"
    }
   ],
   "source": [
    "remove_letters([\"s\", \"t\", \"r\", \"i\", \"n\", \"g\", \"w\"], \"string\") "
   ]
  },
  {
   "cell_type": "code",
   "execution_count": 19,
   "id": "9b9fdc76",
   "metadata": {},
   "outputs": [
    {
     "data": {
      "text/plain": [
       "['g', 'w']"
      ]
     },
     "execution_count": 19,
     "metadata": {},
     "output_type": "execute_result"
    }
   ],
   "source": [
    "remove_letters([\"b\", \"b\", \"l\", \"l\", \"g\", \"n\", \"o\", \"a\", \"w\"], \"balloon\")"
   ]
  },
  {
   "cell_type": "code",
   "execution_count": 20,
   "id": "4023ebc3",
   "metadata": {},
   "outputs": [
    {
     "data": {
      "text/plain": [
       "[]"
      ]
     },
     "execution_count": 20,
     "metadata": {},
     "output_type": "execute_result"
    }
   ],
   "source": [
    "remove_letters([\"d\", \"b\", \"t\", \"e\", \"a\", \"i\"], \"edabit\")"
   ]
  },
  {
   "cell_type": "markdown",
   "id": "60a30abd",
   "metadata": {},
   "source": [
    "- 2. A block sequence in three dimensions. We can write a formula for this one:\n",
    "    Create a function that takes a number (step) as an argument and returns the amount of blocks in that step."
   ]
  },
  {
   "cell_type": "code",
   "execution_count": 21,
   "id": "5614de4c",
   "metadata": {},
   "outputs": [],
   "source": [
    "def blocks(num):\n",
    "    a = num*3\n",
    "    b = num*2\n",
    "    c = num*(num+1)*0.5\n",
    "    return a + b + int(c) - 1"
   ]
  },
  {
   "cell_type": "code",
   "execution_count": 22,
   "id": "5b5482e1",
   "metadata": {},
   "outputs": [
    {
     "name": "stdout",
     "output_type": "stream",
     "text": [
      "1 -- number of blocks--> 5\n",
      "2 -- number of blocks--> 12\n",
      "3 -- number of blocks--> 20\n",
      "4 -- number of blocks--> 29\n",
      "5 -- number of blocks--> 39\n",
      "6 -- number of blocks--> 50\n"
     ]
    }
   ],
   "source": [
    "test = [1,2,3,4,5,6]\n",
    "for i in test:\n",
    "    print(i, \"-- number of blocks-->\", blocks(i))"
   ]
  },
  {
   "cell_type": "markdown",
   "id": "8206c33e",
   "metadata": {},
   "source": [
    "- 3. Create a function that subtracts one positive integer from another, without using any arithmetic operators such as -, %, /, +, etc."
   ]
  },
  {
   "cell_type": "code",
   "execution_count": 55,
   "id": "ea78c819",
   "metadata": {},
   "outputs": [],
   "source": [
    "def subtract(x, y):\n",
    "\n",
    "    while (y != 0):\n",
    "        borrow = (~x) & y   # bitwise AND\n",
    "        x = x ^ y           # Bitwise XOR\n",
    "        y = borrow << 1     # shift 1 dig in binary\n",
    "\n",
    "    return x"
   ]
  },
  {
   "cell_type": "code",
   "execution_count": 56,
   "id": "35e49c3f",
   "metadata": {},
   "outputs": [
    {
     "name": "stdout",
     "output_type": "stream",
     "text": [
      "9  -  4 ---> 5\n",
      "10  -  5 ---> 5\n",
      "13  -  10 ---> 3\n",
      "25  -  12 ---> 13\n"
     ]
    }
   ],
   "source": [
    "test_num = [[9,4],[10,5],[13,10],[25,12]]\n",
    "for num1,num2 in test_num:\n",
    "    print(num1,\" - \", num2, \"--->\", subtract(num1,num2))"
   ]
  },
  {
   "cell_type": "markdown",
   "id": "11508d87",
   "metadata": {},
   "source": [
    "- 4. Create a function that takes a string containing money in dollars and pounds sterling (seperated by comma) and returns the sum of dollar bills only, as an integer.\n",
    "\n",
    "    For the input string:\n",
    "    Each amount is prefixed by the currency symbol: '$' for dollars and £ for pounds.\n",
    "    Thousands are represented by the suffix k.\n"
   ]
  },
  {
   "cell_type": "code",
   "execution_count": 26,
   "id": "c83f3e12",
   "metadata": {},
   "outputs": [],
   "source": [
    "def add_bill(string):\n",
    "    lis_str = string.split(\",\")\n",
    "    summ = 0\n",
    "    for i in lis_str:\n",
    "        if i[0]=='d':\n",
    "            if i[-1]=='k':\n",
    "                num = int(i[1:-1])*1000\n",
    "                summ += num\n",
    "            else:\n",
    "                summ += int(i[1:])\n",
    "    return summ"
   ]
  },
  {
   "cell_type": "code",
   "execution_count": 58,
   "id": "3157eb4f",
   "metadata": {},
   "outputs": [
    {
     "name": "stdout",
     "output_type": "stream",
     "text": [
      "d20,p40,p60,d50 ----money--sum----> 70\n",
      "p30,d20,p60,d150,p360 ----money--sum----> 170\n",
      "p30,d2k,p60,d200,p360 ----money--sum----> 2200\n"
     ]
    }
   ],
   "source": [
    "money = [\"d20,p40,p60,d50\", \"p30,d20,p60,d150,p360\", \"p30,d2k,p60,d200,p360\"]\n",
    "\n",
    "for st in money:\n",
    "    print(st, \"----money--sum---->\", add_bill(st))"
   ]
  },
  {
   "cell_type": "markdown",
   "id": "a17697a1",
   "metadata": {},
   "source": [
    "- 5. Create a function that flips a horizontal list into a vertical list, and a vertical list into a horizontal list.\n",
    "\n",
    "    In other words, take an 1 x n list (1 row + n columns) and flip it into a n x 1 list (n rows and 1 column), and vice versa.\n"
   ]
  },
  {
   "cell_type": "code",
   "execution_count": 34,
   "id": "ec4ed4b1",
   "metadata": {},
   "outputs": [],
   "source": [
    "def flip_list(lis):\n",
    "    ans_lis = []\n",
    "    if len(lis)==0:\n",
    "        return ans_lis\n",
    "    if type(lis[0])==list:\n",
    "        for i in lis:\n",
    "            ans_lis.append(i[0])\n",
    "    else:\n",
    "        for i in lis:\n",
    "            ans_lis.append([i])\n",
    "    return ans_lis"
   ]
  },
  {
   "cell_type": "code",
   "execution_count": 35,
   "id": "65d72972",
   "metadata": {},
   "outputs": [
    {
     "data": {
      "text/plain": [
       "[[1], [2], [3], [4]]"
      ]
     },
     "execution_count": 35,
     "metadata": {},
     "output_type": "execute_result"
    }
   ],
   "source": [
    "flip_list([1, 2, 3, 4])"
   ]
  },
  {
   "cell_type": "code",
   "execution_count": 36,
   "id": "b45fc653",
   "metadata": {},
   "outputs": [
    {
     "data": {
      "text/plain": [
       "[5, 6, 9]"
      ]
     },
     "execution_count": 36,
     "metadata": {},
     "output_type": "execute_result"
    }
   ],
   "source": [
    "flip_list([[5], [6], [9]])"
   ]
  },
  {
   "cell_type": "code",
   "execution_count": 37,
   "id": "7d745699",
   "metadata": {},
   "outputs": [
    {
     "data": {
      "text/plain": [
       "[]"
      ]
     },
     "execution_count": 37,
     "metadata": {},
     "output_type": "execute_result"
    }
   ],
   "source": [
    "flip_list([])"
   ]
  }
 ],
 "metadata": {
  "kernelspec": {
   "display_name": "Python 3 (ipykernel)",
   "language": "python",
   "name": "python3"
  },
  "language_info": {
   "codemirror_mode": {
    "name": "ipython",
    "version": 3
   },
   "file_extension": ".py",
   "mimetype": "text/x-python",
   "name": "python",
   "nbconvert_exporter": "python",
   "pygments_lexer": "ipython3",
   "version": "3.9.7"
  }
 },
 "nbformat": 4,
 "nbformat_minor": 5
}
