{
 "cells": [
  {
   "cell_type": "markdown",
   "id": "50305d61",
   "metadata": {},
   "source": [
    "# Assignment 10"
   ]
  },
  {
   "cell_type": "markdown",
   "id": "46a739c1",
   "metadata": {},
   "source": [
    "- 1. Create a function that takes the width, height and character and returns a picture frame as a 2D list."
   ]
  },
  {
   "cell_type": "code",
   "execution_count": 3,
   "id": "242c4ae3",
   "metadata": {},
   "outputs": [],
   "source": [
    "def get_frame(col , row, ch): #columbs, rows, characters\n",
    "    Ans_List = []\n",
    "    st = st1 = \"\"\n",
    "    \n",
    "    #st =   *****\n",
    "    #st1 =  *   *\n",
    "    for i in range(col):\n",
    "        st += ch\n",
    "        if i==0 or i==col-1:\n",
    "            st1 += ch\n",
    "        else:\n",
    "            st1 += \" \"\n",
    "    # TOP :\n",
    "    if row in [1,2]:\n",
    "        Ans_List.append([st])\n",
    "        if row == 2:\n",
    "            Ans_List.append([st])\n",
    "    \n",
    "    elif row >=3:\n",
    "        Ans_List.append([st])\n",
    "        for i in range(row - 2):\n",
    "            Ans_List.append([st1])\n",
    "        Ans_List.append([st])\n",
    "        \n",
    "    return Ans_List"
   ]
  },
  {
   "cell_type": "code",
   "execution_count": 8,
   "id": "e5f27ce7",
   "metadata": {},
   "outputs": [],
   "source": [
    "col = [5,10,15,11]\n",
    "row = [2,4,5,6]\n",
    "ch = [\"*\", \"-\", \"%\", \"#\"]\n",
    "lis = zip(col,row,ch)"
   ]
  },
  {
   "cell_type": "code",
   "execution_count": 9,
   "id": "11913b86",
   "metadata": {},
   "outputs": [
    {
     "name": "stdout",
     "output_type": "stream",
     "text": [
      "Column : 5, Row : 2, Character : '*' :\n",
      "['*****']\n",
      "['*****']\n",
      "--------------------------------------------------\n",
      "Column : 10, Row : 4, Character : '-' :\n",
      "['----------']\n",
      "['-        -']\n",
      "['-        -']\n",
      "['----------']\n",
      "--------------------------------------------------\n",
      "Column : 15, Row : 5, Character : '%' :\n",
      "['%%%%%%%%%%%%%%%']\n",
      "['%             %']\n",
      "['%             %']\n",
      "['%             %']\n",
      "['%%%%%%%%%%%%%%%']\n",
      "--------------------------------------------------\n",
      "Column : 11, Row : 6, Character : '#' :\n",
      "['###########']\n",
      "['#         #']\n",
      "['#         #']\n",
      "['#         #']\n",
      "['#         #']\n",
      "['###########']\n",
      "--------------------------------------------------\n"
     ]
    }
   ],
   "source": [
    "for a,b,ch in lis:\n",
    "    print(f\"Column : {a}, Row : {b}, Character : '{ch}' :\")\n",
    "    lis_of_pattern = get_frame(a, b, ch)\n",
    "    for i in lis_of_pattern:\n",
    "        print(i)\n",
    "    print(\"-\"*50)"
   ]
  },
  {
   "cell_type": "markdown",
   "id": "d5704274",
   "metadata": {},
   "source": [
    "- 2.  Write three functions:\n",
    "\n",
    "          1. boolean_and\n",
    "          2. boolean_or\n",
    "          3. boolean_xor\n",
    "\n",
    "  These functions should evaluate a list of True and False values, starting from the leftmost element and evaluating pairwise."
   ]
  },
  {
   "cell_type": "code",
   "execution_count": 16,
   "id": "113dd909",
   "metadata": {},
   "outputs": [],
   "source": [
    "def boolean_and(lis):\n",
    "    for i in lis:\n",
    "        if not i:\n",
    "            return False\n",
    "    return True\n",
    "\n",
    "def boolean_or(lis):\n",
    "    for i in lis:\n",
    "        if i:\n",
    "            return True\n",
    "    return False\n",
    "\n",
    "def boolean_xor(lis):\n",
    "    l = len(lis)\n",
    "    prev = lis[0]\n",
    "    \n",
    "    # XoR Function:\n",
    "    def xor(a,b):\n",
    "        return False if a==b else True\n",
    "    \n",
    "    for i in range(1,l-1):\n",
    "        prev = xor(prev, lis[i])\n",
    "    \n",
    "    return prev"
   ]
  },
  {
   "cell_type": "code",
   "execution_count": 20,
   "id": "29122d34",
   "metadata": {},
   "outputs": [
    {
     "name": "stdout",
     "output_type": "stream",
     "text": [
      "Input : [True, True, False, False] ------> Operation:- 'And' : False, 'Or' : True, 'Xor' : False\n"
     ]
    }
   ],
   "source": [
    "s = [True, True , False, False]\n",
    "print(f\"Input : {s} ------> Operation:- 'And' : {boolean_and(s)}, 'Or' : {boolean_or(s)}, 'Xor' : {boolean_xor(s)}\")"
   ]
  },
  {
   "cell_type": "markdown",
   "id": "6b44ca65",
   "metadata": {},
   "source": [
    "- 3. Create a function that creates a box based on dimension n."
   ]
  },
  {
   "cell_type": "code",
   "execution_count": 21,
   "id": "e90c83f1",
   "metadata": {},
   "outputs": [],
   "source": [
    "def make_box(num):\n",
    "    return get_frame(num, num , \"#\")"
   ]
  },
  {
   "cell_type": "code",
   "execution_count": 22,
   "id": "6ebef25d",
   "metadata": {},
   "outputs": [
    {
     "name": "stdout",
     "output_type": "stream",
     "text": [
      "Dimention : 1x1\n",
      "['#']\n",
      "-*--*--*--*--*--*--*--*--*--*--*--*--*--*--*--*--*--*--*--*--*--*--*--*--*--*--*--*--*--*-\n",
      "Dimention : 2x2\n",
      "['##']\n",
      "['##']\n",
      "-*--*--*--*--*--*--*--*--*--*--*--*--*--*--*--*--*--*--*--*--*--*--*--*--*--*--*--*--*--*-\n",
      "Dimention : 3x3\n",
      "['###']\n",
      "['# #']\n",
      "['###']\n",
      "-*--*--*--*--*--*--*--*--*--*--*--*--*--*--*--*--*--*--*--*--*--*--*--*--*--*--*--*--*--*-\n",
      "Dimention : 4x4\n",
      "['####']\n",
      "['#  #']\n",
      "['#  #']\n",
      "['####']\n",
      "-*--*--*--*--*--*--*--*--*--*--*--*--*--*--*--*--*--*--*--*--*--*--*--*--*--*--*--*--*--*-\n",
      "Dimention : 5x5\n",
      "['#####']\n",
      "['#   #']\n",
      "['#   #']\n",
      "['#   #']\n",
      "['#####']\n",
      "-*--*--*--*--*--*--*--*--*--*--*--*--*--*--*--*--*--*--*--*--*--*--*--*--*--*--*--*--*--*-\n",
      "Dimention : 6x6\n",
      "['######']\n",
      "['#    #']\n",
      "['#    #']\n",
      "['#    #']\n",
      "['#    #']\n",
      "['######']\n",
      "-*--*--*--*--*--*--*--*--*--*--*--*--*--*--*--*--*--*--*--*--*--*--*--*--*--*--*--*--*--*-\n",
      "Dimention : 7x7\n",
      "['#######']\n",
      "['#     #']\n",
      "['#     #']\n",
      "['#     #']\n",
      "['#     #']\n",
      "['#     #']\n",
      "['#######']\n",
      "-*--*--*--*--*--*--*--*--*--*--*--*--*--*--*--*--*--*--*--*--*--*--*--*--*--*--*--*--*--*-\n"
     ]
    }
   ],
   "source": [
    "numbers = [1,2,3,4,5,6,7]\n",
    "for num in numbers:\n",
    "    print(f\"Dimention : {num}x{num}\")\n",
    "    for i in make_box(num):\n",
    "        print(i)\n",
    "    print(\"-*-\"*30)"
   ]
  },
  {
   "cell_type": "markdown",
   "id": "def88413",
   "metadata": {},
   "source": [
    "- 4. Write a regular expression that will match the states that voted yes to President Trump's impeachment. You must use RegEx positive lookahead."
   ]
  },
  {
   "cell_type": "code",
   "execution_count": 12,
   "id": "ac60bc82",
   "metadata": {},
   "outputs": [],
   "source": [
    "import re\n",
    "def find_all_name(text):\n",
    "    name = []\n",
    "    lis =  text.split(\",\")\n",
    "    for i in lis:\n",
    "        if i[-3:] == \"yes\":\n",
    "            name.append(i[:-6].strip())\n",
    "    return name"
   ]
  },
  {
   "cell_type": "code",
   "execution_count": 13,
   "id": "eb0874f5",
   "metadata": {},
   "outputs": [
    {
     "data": {
      "text/plain": [
       "['California', 'Florida']"
      ]
     },
     "execution_count": 13,
     "metadata": {},
     "output_type": "execute_result"
    }
   ],
   "source": [
    "find_all_name(\"Texas = no, California = yes, Florida = yes, Michigan = no\")"
   ]
  },
  {
   "cell_type": "markdown",
   "id": "09f642ce",
   "metadata": {},
   "source": [
    "- 5. Given a common phrase, return False if any individual word in the phrase contains duplicate letters. Return True otherwise."
   ]
  },
  {
   "cell_type": "code",
   "execution_count": 4,
   "id": "b2656cff",
   "metadata": {},
   "outputs": [],
   "source": [
    "def no_duplicate_letters(string):\n",
    "    for i in string.split():\n",
    "        lis = []\n",
    "        for j in i:\n",
    "            if j not in lis:\n",
    "                lis.append(j)\n",
    "            else:\n",
    "                return False\n",
    "    return True"
   ]
  },
  {
   "cell_type": "code",
   "execution_count": 5,
   "id": "7d5ab06a",
   "metadata": {},
   "outputs": [
    {
     "name": "stdout",
     "output_type": "stream",
     "text": [
      "True\n",
      "True\n",
      "False\n",
      "False\n"
     ]
    }
   ],
   "source": [
    "list_of_string = [\"Fortune favours the bold\", \"You can lead a horse to water, but you can't make him drink.\",\n",
    "                     \"Look before you leap\", \"An apple a day keeps the doctor away\"]\n",
    "for string in list_of_string:\n",
    "    print(no_duplicate_letters(string))"
   ]
  }
 ],
 "metadata": {
  "kernelspec": {
   "display_name": "Python 3 (ipykernel)",
   "language": "python",
   "name": "python3"
  },
  "language_info": {
   "codemirror_mode": {
    "name": "ipython",
    "version": 3
   },
   "file_extension": ".py",
   "mimetype": "text/x-python",
   "name": "python",
   "nbconvert_exporter": "python",
   "pygments_lexer": "ipython3",
   "version": "3.9.7"
  }
 },
 "nbformat": 4,
 "nbformat_minor": 5
}
