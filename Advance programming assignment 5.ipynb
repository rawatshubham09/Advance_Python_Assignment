{
 "cells": [
  {
   "cell_type": "markdown",
   "id": "a2d27f61",
   "metadata": {},
   "source": [
    "# Assignment 5"
   ]
  },
  {
   "cell_type": "markdown",
   "id": "88c224af",
   "metadata": {},
   "source": [
    "- 1. Create a function that takes a number n (integer greater than zero) as an argument, and returns 2 if n is odd and 8 if n is even.\n",
    "\n",
    "    You can only use the following arithmetic operators: addition of numbers +, subtraction of numbers -, multiplication of number *, division of number /, and exponentiation **.\n",
    "\n",
    "    You are not allowed to use any other methods in this challenge (i.e. no if statements, comparison operators, etc).\n"
   ]
  },
  {
   "cell_type": "code",
   "execution_count": 15,
   "id": "6db2322c",
   "metadata": {},
   "outputs": [],
   "source": [
    "def is_even(num):\n",
    "    arr = [8,2]\n",
    "    return arr[num % 2]"
   ]
  },
  {
   "cell_type": "code",
   "execution_count": 16,
   "id": "00299942",
   "metadata": {},
   "outputs": [
    {
     "name": "stdout",
     "output_type": "stream",
     "text": [
      "-----------------------------------: get 2 if number is odd and 8 if it is even :---------------------------------\n",
      "2  checking :-  8\n",
      "3  checking :-  2\n",
      "4  checking :-  8\n",
      "5  checking :-  2\n",
      "6  checking :-  8\n",
      "7  checking :-  2\n",
      "10  checking :-  8\n",
      "22  checking :-  8\n",
      "125  checking :-  2\n",
      "102923221  checking :-  2\n",
      "212342343221  checking :-  2\n"
     ]
    }
   ],
   "source": [
    "test = [2,3,4,5,6,7,10,22,125,102923221,212342343221]\n",
    "print(\"-----------------------------------: get 2 if number is odd and 8 if it is even :---------------------------------\")\n",
    "for num in test:\n",
    "    \n",
    "    print(num,\" checking :- \", is_even(num))"
   ]
  },
  {
   "cell_type": "markdown",
   "id": "bfd2ccc0",
   "metadata": {},
   "source": [
    "- 2. Create a function that returns the majority vote in a list. A majority vote is an element that occurs > N/2 times in a list (where N is the length of the list)."
   ]
  },
  {
   "cell_type": "code",
   "execution_count": 2,
   "id": "62eb9db4",
   "metadata": {},
   "outputs": [],
   "source": [
    "def majority_vote(lis):\n",
    "    \"\"\"This Function will take a list of element and print one which has majority more than N/2\"\"\"\n",
    "    l = len(lis)//2 # length of list and making it half\n",
    "    s,count = set(lis),0 # remove duplicate\n",
    "    for i in s:\n",
    "        count = lis.count(i)\n",
    "        if count > l:\n",
    "            return i"
   ]
  },
  {
   "cell_type": "code",
   "execution_count": 4,
   "id": "41b94865",
   "metadata": {},
   "outputs": [
    {
     "name": "stdout",
     "output_type": "stream",
     "text": [
      "A A B ---Candidate which win by scoring Majotity by Half is :-  A\n",
      "A A A B C A ---Candidate which win by scoring Majotity by Half is :-  A\n",
      "A B B A C C ---Candidate which win by scoring Majotity by Half is :-  None\n"
     ]
    }
   ],
   "source": [
    "test_lis = [[\"A\", \"A\", \"B\"], [\"A\", \"A\", \"A\", \"B\", \"C\", \"A\"],  [\"A\", \"B\", \"B\", \"A\", \"C\", \"C\"]]\n",
    "for lis in test_lis:\n",
    "    print(*lis, \"---Candidate which win by scoring Majotity by Half is :- \", majority_vote(lis))"
   ]
  },
  {
   "cell_type": "markdown",
   "id": "5de84ca1",
   "metadata": {},
   "source": [
    "- 3. Create a function that takes a string txt and censors any word from a given list lst. The text removed must be replaced by the given character char."
   ]
  },
  {
   "cell_type": "code",
   "execution_count": 10,
   "id": "ba015ce5",
   "metadata": {},
   "outputs": [],
   "source": [
    "import re\n",
    "\n",
    "def censor_string(st,lis,ch): #String, list of string, characters\n",
    "    for i in lis:\n",
    "        l = len(i)\n",
    "        pat = r'(?P<name>'+i+')'\n",
    "        st = re.sub(pat, ch*l, st)\n",
    "    return st"
   ]
  },
  {
   "cell_type": "code",
   "execution_count": 12,
   "id": "f9d77882",
   "metadata": {},
   "outputs": [
    {
     "name": "stdout",
     "output_type": "stream",
     "text": [
      "The &&& jumped &&&& the moon.\n",
      "Why *** the ******* cross the ****?\n",
      "----- is - Wednesd-y!\n"
     ]
    }
   ],
   "source": [
    "print(censor_string(\"The cow jumped over the moon.\", [\"cow\", \"over\"],\"&\"))\n",
    "print(censor_string(\"Why did the chicken cross the road?\", [\"did\", \"chicken\", \"road\"], \"*\"))\n",
    "print(censor_string(\"Today is a Wednesday!\", [\"Today\", \"a\"], \"-\"))"
   ]
  },
  {
   "cell_type": "markdown",
   "id": "08ca9347",
   "metadata": {},
   "source": [
    "4. In mathematics a Polydivisible Number (or magic number) is a number in a given number base with digits abcde... that has the following properties:\n",
    "\n",
    "-  Its first digit a is not 0.\n",
    "- The number formed by its first two digits ab is a multiple of 2.\n",
    "- The number formed by its first three digits abc is a multiple of 3.\n",
    "- The number formed by its first four digits abcd is a multiple of 4.\n",
    "\n",
    "    Create a function which takes an integer n and returns True if the given number is a Polydivisible Number and False otherwise.\n"
   ]
  },
  {
   "cell_type": "code",
   "execution_count": 14,
   "id": "fdb28f4a",
   "metadata": {},
   "outputs": [],
   "source": [
    "def is_polydivisible(num):\n",
    "    \"\"\"This Function take a number and check required condition\"\"\"\n",
    "    l = len(str(num))\n",
    "    while num:\n",
    "        if num%l!=0:\n",
    "            return False\n",
    "        num = num//10\n",
    "        l -= 1\n",
    "    return True"
   ]
  },
  {
   "cell_type": "code",
   "execution_count": 15,
   "id": "e949b43c",
   "metadata": {},
   "outputs": [
    {
     "name": "stdout",
     "output_type": "stream",
     "text": [
      "1232  -->  True\n",
      "122022  -->  False\n",
      "123  -->  True\n"
     ]
    }
   ],
   "source": [
    "digs = [1232, 122022, 123]\n",
    "for i in digs:\n",
    "    print(i, \" --> \", is_polydivisible(i))"
   ]
  },
  {
   "cell_type": "markdown",
   "id": "015300c6",
   "metadata": {},
   "source": [
    "- 5. Create a function that takes a list of numbers and returns the sum of all prime numbers in the list."
   ]
  },
  {
   "cell_type": "code",
   "execution_count": 9,
   "id": "ba1a79f6",
   "metadata": {},
   "outputs": [],
   "source": [
    "import math\n",
    "def is_prime(num):\n",
    "    a = round(math.sqrt(num))\n",
    "    if num ==1:\n",
    "        return False\n",
    "    for i in range(2,a + 1):\n",
    "        if num%i==0:\n",
    "            return False\n",
    "    return True\n",
    "    \n",
    "def sum_primes(lis):\n",
    "    \"\"\"This Function will take list of numbers and print sum of only prime numbers\"\"\"\n",
    "    summ = 0\n",
    "    for i in lis:\n",
    "        if is_prime(i):\n",
    "            print(i, end = \" \")\n",
    "            summ += i\n",
    "    return summ"
   ]
  },
  {
   "cell_type": "code",
   "execution_count": 10,
   "id": "f5844a38",
   "metadata": {},
   "outputs": [
    {
     "name": "stdout",
     "output_type": "stream",
     "text": [
      "2 3 5 7 1 2 3 4 5 6 7 8 9 10 sum of prime is :- 17\n",
      "2 3 11 71 2 3 4 11 20 50 71 sum of prime is :- 87\n",
      "sum of prime is :- 0\n"
     ]
    }
   ],
   "source": [
    "test = [[1, 2, 3, 4, 5, 6, 7, 8, 9, 10], [2, 3, 4, 11, 20, 50, 71], []]\n",
    "for i in test:\n",
    "    print(*i, \"sum of prime is :-\", sum_primes(i))"
   ]
  }
 ],
 "metadata": {
  "kernelspec": {
   "display_name": "Python 3 (ipykernel)",
   "language": "python",
   "name": "python3"
  },
  "language_info": {
   "codemirror_mode": {
    "name": "ipython",
    "version": 3
   },
   "file_extension": ".py",
   "mimetype": "text/x-python",
   "name": "python",
   "nbconvert_exporter": "python",
   "pygments_lexer": "ipython3",
   "version": "3.9.7"
  }
 },
 "nbformat": 4,
 "nbformat_minor": 5
}
