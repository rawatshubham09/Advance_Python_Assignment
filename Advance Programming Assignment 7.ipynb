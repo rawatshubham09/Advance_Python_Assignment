{
 "cells": [
  {
   "cell_type": "markdown",
   "id": "94c45e1a",
   "metadata": {},
   "source": [
    "# Assignment 7"
   ]
  },
  {
   "cell_type": "markdown",
   "id": "4c1c4617",
   "metadata": {},
   "source": [
    "- 1. Write a function that counts how many concentric layers a rug."
   ]
  },
  {
   "cell_type": "code",
   "execution_count": 23,
   "id": "6ca4b19b",
   "metadata": {},
   "outputs": [],
   "source": [
    "def count_layers(lis):\n",
    "    \"\"\"This take list of word sandwitch and tells no. of layers\"\"\"\n",
    "    count = 1\n",
    "    # For taking middle value in list\n",
    "    m = len(lis)//2\n",
    "    strings = lis[m] # middle one in the list\n",
    "    \n",
    "    # Taking half of middle string to save time and space\n",
    "    half = len(strings)//2 +1\n",
    "    \n",
    "    # loop for calculating no. of sandwich\n",
    "    for i in range(half-1):\n",
    "        if strings[i]!=strings[i+1]:\n",
    "            count += 1\n",
    "    return count"
   ]
  },
  {
   "cell_type": "code",
   "execution_count": 24,
   "id": "cc35881c",
   "metadata": {},
   "outputs": [
    {
     "data": {
      "text/plain": [
       "3"
      ]
     },
     "execution_count": 24,
     "metadata": {},
     "output_type": "execute_result"
    }
   ],
   "source": [
    "count_layers([\n",
    "  \"AAAAAAAAA\",\n",
    "  \"ABBBBBBBA\",\n",
    "  \"ABBAAABBA\",\n",
    "  \"ABBBBBBBA\",\n",
    "  \"AAAAAAAAA\"\n",
    "]) "
   ]
  },
  {
   "cell_type": "code",
   "execution_count": 25,
   "id": "5f76fa62",
   "metadata": {},
   "outputs": [
    {
     "data": {
      "text/plain": [
       "5"
      ]
     },
     "execution_count": 25,
     "metadata": {},
     "output_type": "execute_result"
    }
   ],
   "source": [
    "count_layers([\n",
    "  \"AAAAAAAAAAA\",\n",
    "  \"AABBBBBBBAA\",\n",
    "  \"AABCCCCCBAA\",\n",
    "  \"AABCAAACBAA\",\n",
    "  \"AABCADACBAA\",\n",
    "  \"AABCAAACBAA\",\n",
    "  \"AABCCCCCBAA\",\n",
    "  \"AABBBBBBBAA\",\n",
    "  \"AAAAAAAAAAA\"\n",
    "]) "
   ]
  },
  {
   "cell_type": "code",
   "execution_count": 26,
   "id": "4a09bcf9",
   "metadata": {},
   "outputs": [
    {
     "data": {
      "text/plain": [
       "2"
      ]
     },
     "execution_count": 26,
     "metadata": {},
     "output_type": "execute_result"
    }
   ],
   "source": [
    "count_layers([\n",
    "  \"AAAA\",\n",
    "  \"ABBA\",\n",
    "  \"AAAA\"\n",
    "]) "
   ]
  },
  {
   "cell_type": "markdown",
   "id": "7a2d6009",
   "metadata": {},
   "source": [
    "- 2. There are many different styles of music and many albums exhibit multiple styles. Create a function that takes a list of musical styles from albums and returns how many styles are unique."
   ]
  },
  {
   "cell_type": "code",
   "execution_count": 18,
   "id": "12a4ae7e",
   "metadata": {},
   "outputs": [],
   "source": [
    "def unique_styles(lis):\n",
    "    \"\"\"This function will take number of music and sent back unique one\"\"\"\n",
    "    new_lis = []\n",
    "    for i in lis:\n",
    "        for j in i.split(\",\"):\n",
    "            new_lis.append(j)\n",
    "    return len(set(new_lis))"
   ]
  },
  {
   "cell_type": "code",
   "execution_count": 19,
   "id": "a9edc273",
   "metadata": {},
   "outputs": [
    {
     "name": "stdout",
     "output_type": "stream",
     "text": [
      "['Dub,Dancehall', 'Industrial,Heavy Metal', 'Techno,Dubstep', 'Synth-pop,Euro-Disco', 'Industrial,Techno,Minimal'] -----> 9\n",
      "['Soul', 'House,Folk', 'Trance,Downtempo,Big Beat,House', 'Deep House', 'Soul'] -----> 7\n"
     ]
    }
   ],
   "source": [
    "new_lis = [[\"Dub,Dancehall\",\"Industrial,Heavy Metal\",\"Techno,Dubstep\",\"Synth-pop,Euro-Disco\",\"Industrial,Techno,Minimal\"],\n",
    "            [\"Soul\",\"House,Folk\",\"Trance,Downtempo,Big Beat,House\",\"Deep House\",\"Soul\"]]\n",
    "for lis in new_lis:\n",
    "    print(lis, \"----->\", unique_styles(lis))"
   ]
  },
  {
   "cell_type": "markdown",
   "id": "e73274bc",
   "metadata": {},
   "source": [
    "- 3. Create a function that finds a target number in a list of prime numbers. Implement a binary search algorithm in your function. The target number will be from 2 through 97. If the target is prime then return \"yes\" else return \"no\"."
   ]
  },
  {
   "cell_type": "code",
   "execution_count": 10,
   "id": "73e13318",
   "metadata": {},
   "outputs": [],
   "source": [
    "def is_prime(lis, num):\n",
    "    l = len(lis)-1\n",
    "    m = l//2\n",
    "    f = 0\n",
    "    #Binary Search method\n",
    "    while l>=f:\n",
    "        if num > lis[m]:\n",
    "            f= m+1\n",
    "            m = (f+l)//2\n",
    "        elif num < lis[m]:\n",
    "            l = m-1\n",
    "            m = (f+l)//2\n",
    "        else:\n",
    "            return \"yes\"\n",
    "    return \"no\""
   ]
  },
  {
   "cell_type": "code",
   "execution_count": 11,
   "id": "9db5e796",
   "metadata": {},
   "outputs": [
    {
     "name": "stdout",
     "output_type": "stream",
     "text": [
      "3  is prime :- yes\n",
      "7  is prime :- yes\n",
      "12  is prime :- no\n",
      "17  is prime :- yes\n",
      "29  is prime :- yes\n",
      "47  is prime :- yes\n",
      "50  is prime :- no\n"
     ]
    }
   ],
   "source": [
    "primes = [2, 3, 5, 7, 11, 13, 17, 19, 23, 29, 31, 37, 41, 43, 47, 53, 59, 61, 67, 71, 73, 79, 83, 89, 97]\n",
    "test = [3,7,12,17,29,47,50]\n",
    "for num in test:\n",
    "    print(num, \" is prime :-\", is_prime(primes, num))"
   ]
  },
  {
   "cell_type": "markdown",
   "id": "1d767c50",
   "metadata": {},
   "source": [
    "- 4. Create a function that takes in n, a, b and returns the number of positive values raised to the nth power that lie in the range [a, b], inclusive."
   ]
  },
  {
   "cell_type": "code",
   "execution_count": 16,
   "id": "d2e1f347",
   "metadata": {},
   "outputs": [],
   "source": [
    "import math\n",
    "def power_ranger(n,a,b):\n",
    "    count = 0\n",
    "    ma_val = int(math.sqrt(b))+1\n",
    "    for i in range(1,ma_val+1):\n",
    "        val = i**n\n",
    "        if val>=a and val<=b:\n",
    "            count += 1\n",
    "    return count"
   ]
  },
  {
   "cell_type": "code",
   "execution_count": 17,
   "id": "b5e3cc62",
   "metadata": {},
   "outputs": [
    {
     "name": "stdout",
     "output_type": "stream",
     "text": [
      "numbers between  49 and 65 of powers 2  : 2\n",
      "numbers between  1 and 27 of powers 3  : 3\n",
      "numbers between  1 and 5 of powers 10  : 1\n",
      "numbers between  31 and 33 of powers 5  : 1\n",
      "numbers between  250 and 1300 of powers 4  : 3\n"
     ]
    }
   ],
   "source": [
    "values = [[2,49,65],[3,1,27],[10,1,5],[5,31,33],[4, 250, 1300]]\n",
    "for n,a,b in values:\n",
    "    print(\"numbers between \",a,\"and\",b,\"of powers\",n,\" :\", power_ranger(n,a,b))"
   ]
  },
  {
   "cell_type": "markdown",
   "id": "0f4e7751",
   "metadata": {},
   "source": [
    "- 5. Given a number, return the difference between the maximum and minimum numbers that can be formed when the digits are rearranged."
   ]
  },
  {
   "cell_type": "code",
   "execution_count": 8,
   "id": "6314c052",
   "metadata": {},
   "outputs": [],
   "source": [
    "def to_lis(num):\n",
    "    \"\"\"Convert each digit of number into list\"\"\"\n",
    "    lis = []\n",
    "    while num:\n",
    "        a = num%10\n",
    "        lis.append(a)\n",
    "        num = num//10\n",
    "    return lis\n",
    "\n",
    "def lis_num(lis):\n",
    "    \"\"\"Convert List of number into a single number\"\"\"\n",
    "    num = 0\n",
    "    for i in lis:\n",
    "        num = num*10 + i\n",
    "    return num\n",
    "\n",
    "def rearranged_difference(num):\n",
    "    #convert into list of numbers\n",
    "    new_lis = to_lis(num)\n",
    "    # Short into assending and desending numbers\n",
    "    ma = sorted(new_lis,reverse=True)\n",
    "    mi = sorted(new_lis)\n",
    "    \n",
    "    # convert list into numbers\n",
    "    ma_num = lis_num(ma)\n",
    "    mi_num = lis_num(mi)\n",
    "    return ma_num - mi_num"
   ]
  },
  {
   "cell_type": "code",
   "execution_count": 10,
   "id": "35ca8252",
   "metadata": {},
   "outputs": [
    {
     "name": "stdout",
     "output_type": "stream",
     "text": [
      "972882 rearranged difference :- 760833\n",
      "3320707 rearranged difference :- 7709823\n",
      "90010 rearranged difference :- 90981\n",
      "655435 rearranged difference :- 309987\n"
     ]
    }
   ],
   "source": [
    "numbers = [972882, 3320707, 90010, 655435]\n",
    "for num in numbers:\n",
    "    print(num, \"rearranged difference :-\", rearranged_difference(num))"
   ]
  }
 ],
 "metadata": {
  "kernelspec": {
   "display_name": "Python 3 (ipykernel)",
   "language": "python",
   "name": "python3"
  },
  "language_info": {
   "codemirror_mode": {
    "name": "ipython",
    "version": 3
   },
   "file_extension": ".py",
   "mimetype": "text/x-python",
   "name": "python",
   "nbconvert_exporter": "python",
   "pygments_lexer": "ipython3",
   "version": "3.9.7"
  }
 },
 "nbformat": 4,
 "nbformat_minor": 5
}
