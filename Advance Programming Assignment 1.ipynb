{
 "cells": [
  {
   "cell_type": "markdown",
   "id": "c8cfe553",
   "metadata": {},
   "source": [
    " # Assignment 1"
   ]
  },
  {
   "cell_type": "markdown",
   "id": "1dc8107b",
   "metadata": {},
   "source": [
    "- 1. Write a function that takes a list of lists and returns the value of all of the symbols in it, where each symbol adds or takes something from the total score. Symbol values:\n",
    "            # = 5\n",
    "            O = 3\n",
    "            X = 1\n",
    "            ! = -1\n",
    "            !! = -3\n",
    "            !!! = -5"
   ]
  },
  {
   "cell_type": "code",
   "execution_count": 4,
   "id": "df6a4cb6",
   "metadata": {},
   "outputs": [],
   "source": [
    "def check_score(lis):\n",
    "    dic = {\"#\": 5, \"O\": 3, \"X\":1, \"!\": -1, \"!!\": -3, \"!!!\" : -5}\n",
    "    summ = 0\n",
    "    for i in lis:\n",
    "        for j in i:\n",
    "            summ += dic[j]\n",
    "    return summ"
   ]
  },
  {
   "cell_type": "code",
   "execution_count": 5,
   "id": "2afbea0b",
   "metadata": {},
   "outputs": [
    {
     "data": {
      "text/plain": [
       "-1"
      ]
     },
     "execution_count": 5,
     "metadata": {},
     "output_type": "execute_result"
    }
   ],
   "source": [
    "check_score([\n",
    "  [\"!!!\", \"O\", \"!\"],\n",
    "  [\"X\", \"#\", \"!!!\"],\n",
    "  [\"!!\", \"X\", \"O\"]\n",
    "])"
   ]
  },
  {
   "cell_type": "markdown",
   "id": "b514b681",
   "metadata": {},
   "source": [
    "- Create a function that takes a variable number of arguments, each argument representing the number of items in a group, and returns the number of permutations (combinations) of items that you could get by taking one item from each group."
   ]
  },
  {
   "cell_type": "code",
   "execution_count": 6,
   "id": "84f777d0",
   "metadata": {},
   "outputs": [],
   "source": [
    "def combinations(*args):\n",
    "    pro = 1\n",
    "    for i in args:\n",
    "        pro *= i\n",
    "    return pro"
   ]
  },
  {
   "cell_type": "code",
   "execution_count": 8,
   "id": "953c7441",
   "metadata": {},
   "outputs": [
    {
     "name": "stdout",
     "output_type": "stream",
     "text": [
      "40320\n",
      "3360\n",
      "1344\n",
      "6\n"
     ]
    }
   ],
   "source": [
    "print(combinations(2,3,4,5,6,7,8))\n",
    "print(combinations(5,6,7,8, 2))\n",
    "print(combinations(2,3,4,7,8))\n",
    "print(combinations(2,3))"
   ]
  },
  {
   "cell_type": "markdown",
   "id": "f2441b53",
   "metadata": {},
   "source": [
    "- Create a function that takes a string as an argument and returns the Morse code equivalent."
   ]
  },
  {
   "cell_type": "code",
   "execution_count": 9,
   "id": "f1dc15b2",
   "metadata": {},
   "outputs": [],
   "source": [
    "def encode_morse(st):\n",
    "    char_to_dots = {\n",
    "      'A': '.-', 'B': '-...', 'C': '-.-.', 'D': '-..', 'E': '.', 'F': '..-.',\n",
    "      'G': '--.', 'H': '....', 'I': '..', 'J': '.---', 'K': '-.-', 'L': '.-..',\n",
    "      'M': '--', 'N': '-.', 'O': '---', 'P': '.--.', 'Q': '--.-', 'R': '.-.',\n",
    "      'S': '...', 'T': '-', 'U': '..-', 'V': '...-', 'W': '.--', 'X': '-..-',\n",
    "      'Y': '-.--', 'Z': '--..', ' ': ' ', '0': '-----',\n",
    "      '1': '.----', '2': '..---', '3': '...--', '4': '....-', '5': '.....',\n",
    "      '6': '-....', '7': '--...', '8': '---..', '9': '----.',\n",
    "      '&': '.-...', \"'\": '.----.', '@': '.--.-.', ')': '-.--.-', '(': '-.--.',\n",
    "      ':': '---...', ',': '--..--', '=': '-...-', '!': '-.-.--', '.': '.-.-.-',\n",
    "      '-': '-....-', '+': '.-.-.', '\"': '.-..-.', '?': '..--..', '/': '-..-.'\n",
    "        }\n",
    "\n",
    "    code = \"\"\n",
    "    # Accesing each character one by one and converted them into morse code\n",
    "    for i in st:\n",
    "        code += char_to_dots[i]\n",
    "    \n",
    "    return code"
   ]
  },
  {
   "cell_type": "code",
   "execution_count": 10,
   "id": "73c97d89",
   "metadata": {},
   "outputs": [
    {
     "name": "stdout",
     "output_type": "stream",
     "text": [
      "EDABBIT CHALLENGE    :     .-...--...-.....- -.-......-.-...-...-.--..\n",
      "HELP ME !   :    ......-...--. --. -.-.--\n"
     ]
    }
   ],
   "source": [
    "print(\"EDABBIT CHALLENGE    :    \",encode_morse(\"EDABBIT CHALLENGE\"))\n",
    "\n",
    "print(\"HELP ME !   :   \", encode_morse(\"HELP ME !\"))"
   ]
  },
  {
   "cell_type": "markdown",
   "id": "fc4a28e2",
   "metadata": {},
   "source": [
    "- Write a function that takes a number and returns True if it's a prime; False otherwise. The number can be 2^64-1 (2 to the power of 63, not XOR). With the standard technique it would be O(2^64-1), which is much too large for the 10 second time limit."
   ]
  },
  {
   "cell_type": "code",
   "execution_count": 13,
   "id": "32232350",
   "metadata": {},
   "outputs": [],
   "source": [
    "import math\n",
    "def prime(num):\n",
    "    half = int(math.sqrt(num)) #CDS Trick \n",
    "    if num==2:\n",
    "        return True\n",
    "    for i in range(3,half+1,2): # this loop eleminate every even no to reduce division\n",
    "        if num%i==0:\n",
    "            return False\n",
    "    return True"
   ]
  },
  {
   "cell_type": "code",
   "execution_count": 12,
   "id": "329e9ce8",
   "metadata": {},
   "outputs": [
    {
     "name": "stdout",
     "output_type": "stream",
     "text": [
      "True\n",
      "True\n",
      "False\n"
     ]
    }
   ],
   "source": [
    "print(prime(7))\n",
    "\n",
    "print(prime(56963))\n",
    "\n",
    "print(prime(5151512515524))"
   ]
  },
  {
   "cell_type": "markdown",
   "id": "e0cc82de",
   "metadata": {},
   "source": [
    "- Create a function that converts a word to a bitstring and then to a boolean list based on the following criteria:\n",
    "\n",
    "    1. Locate the position of the letter in the English alphabet (from 1 to 26).\n",
    "    2. Odd positions will be represented as 1 and 0 otherwise.\n",
    "    3. Convert the represented positions to boolean values, 1 for True and 0 for False.\n",
    "    4. Store the conversions into an array."
   ]
  },
  {
   "cell_type": "code",
   "execution_count": 19,
   "id": "3e05ba77",
   "metadata": {},
   "outputs": [],
   "source": [
    "def to_boolean_list(st):\n",
    "    arr = [ord(i)%2!=0 for i in st]\n",
    "    return arr"
   ]
  },
  {
   "cell_type": "code",
   "execution_count": 20,
   "id": "91c8c23e",
   "metadata": {},
   "outputs": [
    {
     "name": "stdout",
     "output_type": "stream",
     "text": [
      "deep  :   [False, True, True, False]\n",
      "hello  :   [False, True, False, False, True]\n",
      "list  :   [False, True, True, False]\n",
      "arryar  :   [True, False, False, True, True, False]\n"
     ]
    }
   ],
   "source": [
    "print(\"deep  :  \", to_boolean_list(\"deep\"))\n",
    "print(\"hello  :  \", to_boolean_list(\"hello\"))\n",
    "print(\"list  :  \", to_boolean_list(\"list\"))\n",
    "print(\"arryar  :  \", to_boolean_list(\"arryar\"))"
   ]
  }
 ],
 "metadata": {
  "kernelspec": {
   "display_name": "Python 3 (ipykernel)",
   "language": "python",
   "name": "python3"
  },
  "language_info": {
   "codemirror_mode": {
    "name": "ipython",
    "version": 3
   },
   "file_extension": ".py",
   "mimetype": "text/x-python",
   "name": "python",
   "nbconvert_exporter": "python",
   "pygments_lexer": "ipython3",
   "version": "3.9.7"
  }
 },
 "nbformat": 4,
 "nbformat_minor": 5
}
