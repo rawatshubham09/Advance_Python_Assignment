{
 "cells": [
  {
   "cell_type": "markdown",
   "id": "21011170",
   "metadata": {},
   "source": [
    "# Assignment 12"
   ]
  },
  {
   "cell_type": "markdown",
   "id": "a6437b68",
   "metadata": {},
   "source": [
    "- 1. For this challenge, forget how to add two numbers together. The best explanation on what to do for this function is this meme:"
   ]
  },
  {
   "cell_type": "code",
   "execution_count": 2,
   "id": "a4790a95",
   "metadata": {},
   "outputs": [],
   "source": [
    "def meme_sum(num1, num2):\n",
    "    ret_num = \"\"\n",
    "    while num1 and num2:\n",
    "        # first number once value:\n",
    "        last1 = num1%10\n",
    "        num1 = num1//10\n",
    "        # second number once value:\n",
    "        last2 = num2%10\n",
    "        num2 = num2//10\n",
    "        \n",
    "        summ = last1 + last2\n",
    "        \n",
    "        ret_num = str(summ) + ret_num\n",
    "        \n",
    "    if num1:\n",
    "        ret_num = str(num1) + ret_num\n",
    "    \n",
    "    if num2:\n",
    "        ret_num = str(num2) + ret_num\n",
    "    \n",
    "    return ret_num"
   ]
  },
  {
   "cell_type": "code",
   "execution_count": 4,
   "id": "b02939f4",
   "metadata": {},
   "outputs": [
    {
     "name": "stdout",
     "output_type": "stream",
     "text": [
      "12 32 -----> 44\n",
      "39 92 -----> 1211\n",
      "0 12 -----> 12\n",
      "55 55 -----> 1010\n",
      "919 323232 -----> 32311411\n"
     ]
    }
   ],
   "source": [
    "test_nums = [[12,32], [39,92], [0,12], [55,55], [919,323232]]\n",
    "for num1,num2 in test_nums:\n",
    "    print(num1, num2, \"----->\", meme_sum(num1,num2))"
   ]
  },
  {
   "cell_type": "markdown",
   "id": "d52959c5",
   "metadata": {},
   "source": [
    "- 2. Given an integer, create a function that returns the next prime. If the number is prime, return the number itself."
   ]
  },
  {
   "cell_type": "code",
   "execution_count": 5,
   "id": "7deebe87",
   "metadata": {},
   "outputs": [],
   "source": [
    "from math import sqrt\n",
    "def is_prime(num):\n",
    "    root_num = int(sqrt(num)) + 1\n",
    "    for i in range(2,root_num):\n",
    "        if num%i == 0:\n",
    "            return False\n",
    "    return True\n",
    "\n",
    "def next_prime(num):\n",
    "    for i in range(num, 99999999999999):\n",
    "        if is_prime(i):\n",
    "            return i"
   ]
  },
  {
   "cell_type": "code",
   "execution_count": 6,
   "id": "a865c73b",
   "metadata": {},
   "outputs": [
    {
     "name": "stdout",
     "output_type": "stream",
     "text": [
      "12 ------- next prime ------> 13\n",
      "24 ------- next prime ------> 29\n",
      "11 ------- next prime ------> 11\n",
      "4 ------- next prime ------> 5\n",
      "2 ------- next prime ------> 2\n",
      "32 ------- next prime ------> 37\n",
      "35 ------- next prime ------> 37\n"
     ]
    }
   ],
   "source": [
    "test_nums = [12,24,11,4,2,32,35]\n",
    "for i in test_nums:\n",
    "    print(i, \"------- next prime ------>\", next_prime(i))"
   ]
  },
  {
   "cell_type": "markdown",
   "id": "cba89b44",
   "metadata": {},
   "source": [
    "- 3. If a person traveled up a hill for 18mins at 20mph and then traveled back down the same path at 60mph then their average speed traveled was 30mph.\n",
    "\n",
    "    Write a function that returns the average speed traveled given an uphill time, uphill rate and a downhill rate. Uphill time is given in minutes. Return the rate as an integer (mph). No rounding is necessary."
   ]
  },
  {
   "cell_type": "code",
   "execution_count": 7,
   "id": "9c96e434",
   "metadata": {},
   "outputs": [],
   "source": [
    "def ave_spd(time, speed1, speed2):\n",
    "    hrs = time/60\n",
    "    dist1 = speed1*hrs\n",
    "    dist2 = speed2*hrs\n",
    "    return dist1 + dist2"
   ]
  },
  {
   "cell_type": "code",
   "execution_count": 8,
   "id": "23bc6e58",
   "metadata": {},
   "outputs": [
    {
     "data": {
      "text/plain": [
       "24.0"
      ]
     },
     "execution_count": 8,
     "metadata": {},
     "output_type": "execute_result"
    }
   ],
   "source": [
    "ave_spd(18, 20, 60)"
   ]
  },
  {
   "cell_type": "code",
   "execution_count": 9,
   "id": "54cb0bad",
   "metadata": {},
   "outputs": [
    {
     "data": {
      "text/plain": [
       "20.0"
      ]
     },
     "execution_count": 9,
     "metadata": {},
     "output_type": "execute_result"
    }
   ],
   "source": [
    "ave_spd(30, 10, 30)"
   ]
  },
  {
   "cell_type": "code",
   "execution_count": 10,
   "id": "72bc4139",
   "metadata": {},
   "outputs": [
    {
     "data": {
      "text/plain": [
       "16.0"
      ]
     },
     "execution_count": 10,
     "metadata": {},
     "output_type": "execute_result"
    }
   ],
   "source": [
    "ave_spd(30, 8, 24)"
   ]
  },
  {
   "cell_type": "markdown",
   "id": "b05dab59",
   "metadata": {},
   "source": [
    "- 4. The Kempner Function, applied to a composite number, permits to find the smallest integer greater than zero whose factorial is exactly divided by the number."
   ]
  },
  {
   "cell_type": "code",
   "execution_count": 15,
   "id": "f80daec4",
   "metadata": {},
   "outputs": [],
   "source": [
    "def facto(num):\n",
    "    if num in [0,1]:\n",
    "        return 1\n",
    "    return num*(num-1)\n",
    "\n",
    "def kempner(num):\n",
    "    for i in range(1,num+1):\n",
    "        if facto(i)%num == 0:\n",
    "            return i"
   ]
  },
  {
   "cell_type": "code",
   "execution_count": 18,
   "id": "669838a0",
   "metadata": {},
   "outputs": [
    {
     "name": "stdout",
     "output_type": "stream",
     "text": [
      "2  ------>  2\n",
      "5  ------>  5\n",
      "10  ------>  5\n",
      "15  ------>  6\n",
      "3  ------>  3\n",
      "4  ------>  4\n",
      "20  ------>  5\n",
      "30  ------>  6\n"
     ]
    }
   ],
   "source": [
    "test_nums = [2,5,10,15,3,4,20,30]\n",
    "\n",
    "for num in test_nums:\n",
    "    print(num, \" ------> \", kempner(num))"
   ]
  },
  {
   "cell_type": "markdown",
   "id": "c3fcc54d",
   "metadata": {},
   "source": [
    "- 5. You work in a factory, and your job is to take items from a conveyor belt and pack them into boxes. Each box can hold a maximum of 10 kgs. Given a list containing the weight (in kg) of each item, how many boxes would you need to pack all of the items?"
   ]
  },
  {
   "cell_type": "code",
   "execution_count": 19,
   "id": "341eaca8",
   "metadata": {},
   "outputs": [],
   "source": [
    "def boxes(lis):\n",
    "    count = summ = 0\n",
    "    for i in lis:\n",
    "        if summ + i >10:\n",
    "            count += 1\n",
    "            summ = i\n",
    "        summ += i\n",
    "    \n",
    "    return count"
   ]
  },
  {
   "cell_type": "code",
   "execution_count": 22,
   "id": "8070a9fe",
   "metadata": {},
   "outputs": [],
   "source": [
    "a = [2, 1, 2, 5, 4, 3, 6, 1, 1, 9, 3,2]\n",
    "b = [1,2,3,4,5,2,3,4,5,3,6,2]\n",
    "c = [4,5,3,2,6,5,3,2,1,2]"
   ]
  },
  {
   "cell_type": "code",
   "execution_count": 23,
   "id": "27c2f525",
   "metadata": {},
   "outputs": [
    {
     "name": "stdout",
     "output_type": "stream",
     "text": [
      "[2, 1, 2, 5, 4, 3, 6, 1, 1, 9, 3, 2] -------> 6\n",
      "[1, 2, 3, 4, 5, 2, 3, 4, 5, 3, 6, 2] -------> 7\n",
      "[4, 5, 3, 2, 6, 5, 3, 2, 1, 2] -------> 5\n"
     ]
    }
   ],
   "source": [
    "lis = [a,b,c]\n",
    "for i in lis:\n",
    "    print(i, \"------->\", boxes(i))"
   ]
  }
 ],
 "metadata": {
  "kernelspec": {
   "display_name": "Python 3 (ipykernel)",
   "language": "python",
   "name": "python3"
  },
  "language_info": {
   "codemirror_mode": {
    "name": "ipython",
    "version": 3
   },
   "file_extension": ".py",
   "mimetype": "text/x-python",
   "name": "python",
   "nbconvert_exporter": "python",
   "pygments_lexer": "ipython3",
   "version": "3.9.7"
  }
 },
 "nbformat": 4,
 "nbformat_minor": 5
}
