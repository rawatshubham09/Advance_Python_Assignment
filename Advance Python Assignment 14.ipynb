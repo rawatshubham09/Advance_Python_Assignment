{
 "cells": [
  {
   "cell_type": "markdown",
   "id": "fc8491a9",
   "metadata": {},
   "source": [
    "# Assignment"
   ]
  },
  {
   "cell_type": "markdown",
   "id": "c41f76d7",
   "metadata": {},
   "source": [
    "- 1. Given a list of numbers, create a function that removes 25% from every number in the list except the smallest number, and adds the total amount removed to the smallest number."
   ]
  },
  {
   "cell_type": "code",
   "execution_count": 2,
   "id": "19a81d2b",
   "metadata": {},
   "outputs": [],
   "source": [
    "def show_the_love(lis):\n",
    "    min_num = min(lis)\n",
    "    pos = lis.index(min_num)\n",
    "    summ, l = 0, len(lis)\n",
    "    a = 0\n",
    "    for i in range(l):\n",
    "        if i != pos:\n",
    "            a = lis[i]*0.25\n",
    "            summ += a\n",
    "            lis[i] = lis[i] - a\n",
    "            \n",
    "    lis[pos] = lis[pos] + summ"
   ]
  },
  {
   "cell_type": "code",
   "execution_count": 6,
   "id": "08b72f96",
   "metadata": {},
   "outputs": [
    {
     "name": "stdout",
     "output_type": "stream",
     "text": [
      "[4, 1, 4]---------->[3.0, 3.0, 3.0]\n",
      "[16, 10, 8]---------->[12.0, 7.5, 14.5]\n",
      "[2, 100]---------->[27.0, 75.0]\n"
     ]
    }
   ],
   "source": [
    "num_lis = [[4, 1, 4],[16, 10, 8], [2, 100]]\n",
    "for i in num_lis:\n",
    "    a = i\n",
    "    print(a, end = \"---------->\")\n",
    "    show_the_love(a)\n",
    "    print(a)"
   ]
  },
  {
   "cell_type": "markdown",
   "id": "e1f9036a",
   "metadata": {},
   "source": [
    "- 2. Create a function that takes in two words as input and returns a list of three elements, in the following order:\n",
    "\n",
    "       - Shared letters between two words.\n",
    "       - Letters unique to word 1.\n",
    "       - Letters unique to word 2.\n",
    "\n",
    "    Each element should have unique letters, and have each letter be alphabetically sorted.\n"
   ]
  },
  {
   "cell_type": "code",
   "execution_count": 18,
   "id": "e681981d",
   "metadata": {},
   "outputs": [],
   "source": [
    "def letters(str1, str2):\n",
    "    shar = \"\"\n",
    "    for i in str1:\n",
    "        if i in str2:\n",
    "            if i not in shar:\n",
    "                shar += i\n",
    "            str1 = str1.replace(i , \"\")\n",
    "            str2 = str2.replace(i , \"\")\n",
    "    return shar,str1,str2"
   ]
  },
  {
   "cell_type": "code",
   "execution_count": 19,
   "id": "7a6f40d3",
   "metadata": {},
   "outputs": [
    {
     "name": "stdout",
     "output_type": "stream",
     "text": [
      "sharp, soap-----> sap, hr, o\n",
      "board, bored-----> bord, a, e\n",
      "happiness, envelope-----> pne, haiss, vlo\n"
     ]
    }
   ],
   "source": [
    "lis_letter = [(\"sharp\", \"soap\"), (\"board\", \"bored\"), (\"happiness\", \"envelope\")]\n",
    "\n",
    "for str1,str2 in lis_letter:\n",
    "    a,b,c = letters(str1,str2)\n",
    "    print(f\"{str1}, {str2}-----> {a}, {b}, {c}\")"
   ]
  },
  {
   "cell_type": "markdown",
   "id": "e937b164",
   "metadata": {},
   "source": [
    "- 3. Write a function that pairs the first number in an array with the last, the second number with the second to last, etc."
   ]
  },
  {
   "cell_type": "code",
   "execution_count": 20,
   "id": "bdd7d7b3",
   "metadata": {},
   "outputs": [],
   "source": [
    "def pairs(lis):\n",
    "    f,l = 0,len(lis)-1\n",
    "    ans_lis = []\n",
    "    while(f<=l):\n",
    "        ans_lis.append([lis[f],lis[l]])\n",
    "        f += 1\n",
    "        l -= 1\n",
    "        \n",
    "    return ans_lis"
   ]
  },
  {
   "cell_type": "code",
   "execution_count": 21,
   "id": "916f397e",
   "metadata": {},
   "outputs": [
    {
     "name": "stdout",
     "output_type": "stream",
     "text": [
      "[1, 2, 3, 4, 5, 6, 7] -----> [[1, 7], [2, 6], [3, 5], [4, 4]]\n",
      "[1, 2, 3, 4, 5, 6] -----> [[1, 6], [2, 5], [3, 4]]\n",
      "[5, 9, 8, 1, 2] -----> [[5, 2], [9, 1], [8, 8]]\n",
      "[] -----> []\n"
     ]
    }
   ],
   "source": [
    "test_list = [[1, 2, 3, 4, 5, 6, 7], [1, 2, 3, 4, 5, 6], [5, 9, 8, 1, 2], []]\n",
    "\n",
    "for lis in test_list:\n",
    "    print(lis, \"----->\", pairs(lis))"
   ]
  },
  {
   "cell_type": "markdown",
   "id": "494787a6",
   "metadata": {},
   "source": [
    "- 4. Write a function that adds two numbers. The catch, however, is that the numbers will be strings."
   ]
  },
  {
   "cell_type": "code",
   "execution_count": 26,
   "id": "c6b10369",
   "metadata": {},
   "outputs": [],
   "source": [
    "def add_str_nums(str1, str2):\n",
    "        try :\n",
    "            a = int(str1)\n",
    "            b = int(str2)\n",
    "            return str(a+b)\n",
    "        except :\n",
    "            if str1 == \"\" and str2.isnumeric():\n",
    "                return str2\n",
    "            elif str2 == \"\" and str1.isnumeric():\n",
    "                return str1\n",
    "            else:\n",
    "                return \"-1\""
   ]
  },
  {
   "cell_type": "code",
   "execution_count": 29,
   "id": "40993b71",
   "metadata": {},
   "outputs": [
    {
     "name": "stdout",
     "output_type": "stream",
     "text": [
      "4 , 5 --------:- 9\n",
      "abcdefg , 3 --------:- -1\n",
      "1 ,  --------:- 1\n",
      "1874682736267235927359283579235789257 , 32652983572985729 --------:- 1874682736267235927391936562808774986\n"
     ]
    }
   ],
   "source": [
    "test_list = [(\"4\", \"5\"), (\"abcdefg\", \"3\"), (\"1\", \"\"), (\"1874682736267235927359283579235789257\", \"32652983572985729\") ]\n",
    "for str1,str2 in test_list:\n",
    "    print(str1,\",\",str2, \"--------:-\", add_str_nums(str1, str2))"
   ]
  },
  {
   "cell_type": "markdown",
   "id": "c08cf699",
   "metadata": {},
   "source": [
    "- 5. lPaeesh le pemu mnxit ehess rtnisg! Oh, sorry, that was supposed to say: Please help me unmix these strings!\n",
    "\n",
    "    Somehow my strings have all become mixed up; every pair of characters has been swapped. Help me undo this so I can understand my strings again."
   ]
  },
  {
   "cell_type": "code",
   "execution_count": 32,
   "id": "b2d3d071",
   "metadata": {},
   "outputs": [],
   "source": [
    "def unmix(string):\n",
    "    l = len(string)\n",
    "    new_str = \"\"\n",
    "    \n",
    "    if l%2==0:\n",
    "        for i in range(0,l,2):\n",
    "            new_str += string[i+1]\n",
    "            new_str += string[i]\n",
    "    else:\n",
    "        for i in range(0,l-1,2):\n",
    "            new_str += string[i+1]\n",
    "            new_str += string[i]\n",
    "        new_str += string[l-1]\n",
    "    return new_str"
   ]
  },
  {
   "cell_type": "code",
   "execution_count": 34,
   "id": "3d5f6d6d",
   "metadata": {},
   "outputs": [
    {
     "name": "stdout",
     "output_type": "stream",
     "text": [
      "123456 -------> 214365\n",
      "hTsii  s aimex dpus rtni.g -------> This is a mixed up string.\n",
      "badce -------> abcde\n",
      " -------> \n"
     ]
    }
   ],
   "source": [
    "test_str = [\"123456\", \"hTsii  s aimex dpus rtni.g\", \"badce\", \"\"]\n",
    "\n",
    "for st in test_str:\n",
    "    print(st, \"------->\", unmix(st))"
   ]
  }
 ],
 "metadata": {
  "kernelspec": {
   "display_name": "Python 3 (ipykernel)",
   "language": "python",
   "name": "python3"
  },
  "language_info": {
   "codemirror_mode": {
    "name": "ipython",
    "version": 3
   },
   "file_extension": ".py",
   "mimetype": "text/x-python",
   "name": "python",
   "nbconvert_exporter": "python",
   "pygments_lexer": "ipython3",
   "version": "3.9.7"
  }
 },
 "nbformat": 4,
 "nbformat_minor": 5
}
