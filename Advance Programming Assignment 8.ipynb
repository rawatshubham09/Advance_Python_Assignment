{
 "cells": [
  {
   "cell_type": "markdown",
   "id": "8054a910",
   "metadata": {},
   "source": [
    "# Assignment 8"
   ]
  },
  {
   "cell_type": "markdown",
   "id": "868f0854",
   "metadata": {},
   "source": [
    "-1. Given a sentence as txt, return True if any two adjacent words have this property: One word ends with a vowel, while the word immediately after begins with a vowel (a e i o u)."
   ]
  },
  {
   "cell_type": "code",
   "execution_count": 5,
   "id": "fa9b8ca0",
   "metadata": {},
   "outputs": [],
   "source": [
    "import re\n",
    "def vowel_links(st):\n",
    "    \"\"\"This Function will take a string  and perform given task as in question\"\"\"\n",
    "    pat = r\"[aeiou]\\s[aeiou]\"\n",
    "    return True if re.search(pat,st) else False"
   ]
  },
  {
   "cell_type": "code",
   "execution_count": 6,
   "id": "ef6698da",
   "metadata": {},
   "outputs": [
    {
     "name": "stdout",
     "output_type": "stream",
     "text": [
      "a very large appliance ---> True\n",
      "go to edabit ---> True\n",
      "an open fire ---> False\n",
      "a sudden applause ---> False\n"
     ]
    }
   ],
   "source": [
    "text = [\"a very large appliance\", \"go to edabit\", \"an open fire\", \"a sudden applause\"]\n",
    "for st in text:\n",
    "    print(st,\"--->\",vowel_links(st))"
   ]
  },
  {
   "cell_type": "markdown",
   "id": "92932ff9",
   "metadata": {},
   "source": [
    "- 2. You are given three inputs: a string, one letter, and a second letter.\n",
    "\n",
    "    Write a function that returns True if every instance of the first letter occurs before every instance of the second letter."
   ]
  },
  {
   "cell_type": "code",
   "execution_count": 14,
   "id": "33765d42",
   "metadata": {},
   "outputs": [],
   "source": [
    "def first_before_second(st,ch1,ch2):\n",
    "    pat = r\"{a}(.*?){b}\".format(a=ch2,b=ch1)\n",
    "    return False if re.search(pat,st) else True"
   ]
  },
  {
   "cell_type": "code",
   "execution_count": 18,
   "id": "06ebb4ce",
   "metadata": {},
   "outputs": [
    {
     "name": "stdout",
     "output_type": "stream",
     "text": [
      "a rabbit jumps joyfully    ::: is ' a ' before j   ------>   True\n",
      "knaves knew about waterfalls    ::: is ' k ' before w   ------>   True\n",
      "happy birthday    ::: is ' a ' before y   ------>   False\n",
      "precarious kangaroos    ::: is ' k ' before a   ------>   False\n"
     ]
    }
   ],
   "source": [
    "text = [[\"a rabbit jumps joyfully\", \"a\", \"j\"],[\"knaves knew about waterfalls\", \"k\", \"w\"],[\"happy birthday\", \"a\", \"y\"],[\"precarious kangaroos\", \"k\", \"a\"]]\n",
    "for st,ch1,ch2 in text:\n",
    "    print(st,\"   ::: is '\",ch1,\"' before\", ch2,\"  ------>  \", first_before_second(st,ch1,ch2)) "
   ]
  },
  {
   "cell_type": "markdown",
   "id": "e98fbc0e",
   "metadata": {},
   "source": [
    "- 3. Create a function that returns the characters from a list or string r on odd or even positions, depending on the specifier s. The specifier will be \"odd\" for items on odd positions (1, 3, 5, ...) and \"even\" for items on even positions (2, 4, 6, ...)."
   ]
  },
  {
   "cell_type": "code",
   "execution_count": 21,
   "id": "c79cc3ef",
   "metadata": {},
   "outputs": [],
   "source": [
    "def char_at_pos(lis_str, odd_eve):\n",
    "    return lis_str[::2] if odd_eve.lower() == \"odd\" else lis_str[1::2]  #One liner for printing given task"
   ]
  },
  {
   "cell_type": "code",
   "execution_count": 24,
   "id": "4fc7734d",
   "metadata": {},
   "outputs": [
    {
     "name": "stdout",
     "output_type": "stream",
     "text": [
      "[2, 4, 6, 8, 10]  find ' even ' of it ----> [4, 8]\n",
      "EDABIT  find ' odd ' of it ----> EAI\n",
      "['A', 'R', 'B', 'I', 'T', 'R', 'A', 'R', 'I', 'L', 'Y']  find ' odd ' of it ----> ['A', 'B', 'T', 'A', 'I', 'Y']\n"
     ]
    }
   ],
   "source": [
    "values = [[[2, 4, 6, 8, 10], \"even\"],[\"EDABIT\", \"odd\"],[[\"A\", \"R\", \"B\", \"I\", \"T\", \"R\", \"A\", \"R\", \"I\", \"L\", \"Y\"], \"odd\"]]\n",
    "for val,event in values:\n",
    "    print(val, \" find '\", event,\"' of it ---->\", char_at_pos(val,event))"
   ]
  },
  {
   "cell_type": "markdown",
   "id": "43b29ebd",
   "metadata": {},
   "source": [
    "- 4. Write a function that returns the greatest common divisor of all list elements. If the greatest common divisor is 1, return 1."
   ]
  },
  {
   "cell_type": "code",
   "execution_count": 6,
   "id": "b8f9f3a2",
   "metadata": {},
   "outputs": [],
   "source": [
    "def find_gcd(x, y):\n",
    "    \"\"\"Find GCD Between 2 numbers\"\"\"\n",
    "    while(y):\n",
    "        x, y = y, x % y\n",
    "  \n",
    "    return x\n",
    "def GCD(lis):\n",
    "    \"\"\"take list and find GCD\"\"\"\n",
    "    a = lis[0]\n",
    "    b = lis[1]\n",
    "    #Take GCD of first two number\n",
    "    gcd = find_gcd(a,b)\n",
    "    \n",
    "    #take GCD with each numbers:-\n",
    "    for i in range(2,len(lis)):\n",
    "        gcd=find_gcd(gcd,lis[i])\n",
    "    \n",
    "    return gcd"
   ]
  },
  {
   "cell_type": "code",
   "execution_count": 8,
   "id": "292ccd9e",
   "metadata": {},
   "outputs": [
    {
     "name": "stdout",
     "output_type": "stream",
     "text": [
      "10 20 40 ----> 10\n",
      "1 2 3 100 ----> 1\n",
      "1024 192 2048 512 ----> 64\n",
      "102 32 78 88 64 ----> 2\n"
     ]
    }
   ],
   "source": [
    "test_list = [[10, 20, 40],[1, 2, 3, 100],[1024, 192, 2048, 512],[102,32,78,88,64]]\n",
    "for lis in test_list :\n",
    "    print(*lis, \"---->\", GCD(lis))"
   ]
  },
  {
   "cell_type": "markdown",
   "id": "bf525326",
   "metadata": {},
   "source": [
    "- 5. A number/string is a palindrome if the digits/characters are the same when read both forward and backward. Examples include \"racecar\" and 12321. Given a positive number n, check if n or the binary representation of n is palindromic. Return the following:\n",
    "\n",
    "- \"Decimal only.\" if only n is a palindrome.\n",
    "- \"Binary only.\" if only the binary representation of n is a palindrome.\n",
    "- \"Decimal and binary.\" if both are palindromes.\n",
    "- \"Neither!\" if neither are palindromes."
   ]
  },
  {
   "cell_type": "code",
   "execution_count": 17,
   "id": "3bcd1129",
   "metadata": {},
   "outputs": [],
   "source": [
    "# 1. Check for palindromic\n",
    "# 2. Decimal to Binary\n",
    "# 3. Main Function\n",
    "\n",
    "def is_palindrom(st_num):\n",
    "    return st_num==st_num[::-1]\n",
    "\n",
    "def to_binary(num):\n",
    "    return \"{0:b}\".format(num)\n",
    "\n",
    "def palindrome_type(num):\n",
    "    # Decimal is Palindrom or not\n",
    "    dec = is_palindrom(str(num))\n",
    "    \n",
    "    # Binary is Palindrom or not\n",
    "    bi = is_palindrom(to_binary(num))\n",
    "    \n",
    "    if dec and not bi:       # dec = 1 and bi = 0\n",
    "        return \"Decimal only\"\n",
    "    if not dec and bi :      # dec = 0 and bi = 1\n",
    "        return \"Binary only\"\n",
    "    if dec and bi :          # dec = 1 and bi = 1\n",
    "        return \"Decimal and binary\"\n",
    "    if not dec and not bi:   # dec = 0 and bi = 0\n",
    "        return \"Neither!\""
   ]
  },
  {
   "cell_type": "code",
   "execution_count": 18,
   "id": "6c32d55f",
   "metadata": {},
   "outputs": [
    {
     "name": "stdout",
     "output_type": "stream",
     "text": [
      "1306031 ------> Decimal only\n",
      "427787 ------> Binary only\n",
      "313 ------> Decimal and binary\n",
      "934 ------> Neither!\n"
     ]
    }
   ],
   "source": [
    "test_data = [1306031, 427787, 313, 934]\n",
    "for num in test_data:\n",
    "    print(num, \"------>\", palindrome_type(num))"
   ]
  }
 ],
 "metadata": {
  "kernelspec": {
   "display_name": "Python 3 (ipykernel)",
   "language": "python",
   "name": "python3"
  },
  "language_info": {
   "codemirror_mode": {
    "name": "ipython",
    "version": 3
   },
   "file_extension": ".py",
   "mimetype": "text/x-python",
   "name": "python",
   "nbconvert_exporter": "python",
   "pygments_lexer": "ipython3",
   "version": "3.9.7"
  }
 },
 "nbformat": 4,
 "nbformat_minor": 5
}
