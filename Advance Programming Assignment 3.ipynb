{
 "cells": [
  {
   "cell_type": "markdown",
   "id": "99ccce85",
   "metadata": {},
   "source": [
    "# Assignment 3"
   ]
  },
  {
   "cell_type": "markdown",
   "id": "06f6417f",
   "metadata": {},
   "source": [
    "- 1. Create a function to perform basic arithmetic operations that includes addition, subtraction, multiplication and division on a string number (e.g. \"12 + 24\" or \"23 - 21\" or \"12 // 12\" or \"12 * 21\").\n",
    "\n",
    "- Here, we have 1 followed by a space, operator followed by another space and 2. For the challenge, we are going to have only two numbers between 1 valid operator. The return value should be a number.\n",
    "\n",
    "- eval() is not allowed. In case of division, whenever the second number equals \"0\" return -1."
   ]
  },
  {
   "cell_type": "code",
   "execution_count": 3,
   "id": "8bc6e134",
   "metadata": {},
   "outputs": [],
   "source": [
    "def arithmetic_operation(st):\n",
    "    '''\n",
    "        This Function will take string of data and execute according to given condition\n",
    "    '''\n",
    "    val = st.split(\" \")\n",
    "    a,b = int(val[0]), int(val[2])\n",
    "    if val[1]=='+':\n",
    "        return a+b\n",
    "    if val[1]=='-':\n",
    "        return a-b\n",
    "    if val[1]=='*':\n",
    "        return a*b\n",
    "    if val[1]=='//':\n",
    "        if b==0:\n",
    "            return -1\n",
    "        else:\n",
    "            return a//b"
   ]
  },
  {
   "cell_type": "code",
   "execution_count": 4,
   "id": "31c82851",
   "metadata": {},
   "outputs": [
    {
     "name": "stdout",
     "output_type": "stream",
     "text": [
      "10 + 12  :  22\n",
      "12 - 10  :  2\n",
      "26 // 2  :  13\n",
      "3 * 6  :  18\n"
     ]
    }
   ],
   "source": [
    "strings = [\"10 + 12\", \"12 - 10\", \"26 // 2\", \"3 * 6\"]\n",
    "for st in strings:\n",
    "    print(st, \" : \",arithmetic_operation(st))"
   ]
  },
  {
   "cell_type": "markdown",
   "id": "a45abf46",
   "metadata": {},
   "source": [
    "- 2. Write a function that takes the coordinates of three points in the form of a 2d array and returns the perimeter of the triangle. The given points are the vertices of a triangle on a two-dimensional plane."
   ]
  },
  {
   "cell_type": "code",
   "execution_count": 7,
   "id": "4482a591",
   "metadata": {},
   "outputs": [],
   "source": [
    "import math\n",
    "def distance(a, b):\n",
    "    x1, y1 = a\n",
    "    x2, y2 = b\n",
    "    eqn = \"math.pow(x1-x2, 2) + math.pow(y1 - y2, 2)\"\n",
    "    return math.sqrt(eval(eqn))\n",
    "\n",
    "def perimeter(lis):\n",
    "    a = distance(lis[0], lis[1])\n",
    "    b = distance(lis[2], lis[1])\n",
    "    c = distance(lis[0], lis[2])\n",
    "    return round(a + b + c, 2)"
   ]
  },
  {
   "cell_type": "code",
   "execution_count": 10,
   "id": "28bf0687",
   "metadata": {},
   "outputs": [
    {
     "name": "stdout",
     "output_type": "stream",
     "text": [
      "[[15, 7], [5, 22], [11, 1]]   :   47.08\n",
      "[[0, 0], [0, 1], [1, 0]]   :    3.41\n",
      "[[-10, -10], [10, 10], [-10, 10]]   :   68.28\n"
     ]
    }
   ],
   "source": [
    "print([ [15, 7], [5, 22], [11, 1] ], \"  :  \", perimeter( [ [15, 7], [5, 22], [11, 1] ] ))\n",
    "print([ [0, 0], [0, 1], [1, 0] ], \"  :   \",perimeter( [ [0, 0], [0, 1], [1, 0] ] ))\n",
    "print([ [-10, -10], [10, 10 ], [-10, 10] ], \"  :  \",perimeter( [ [-10, -10], [10, 10 ], [-10, 10] ] ))"
   ]
  },
  {
   "cell_type": "markdown",
   "id": "054eb110",
   "metadata": {},
   "source": [
    "- 3. A city skyline can be represented as a 2-D list with 1s representing buildings. In the example below, the height of the tallest building is 4 (second-most right column).\n",
    "\n",
    "[[0, 0, 0, 0, 0, 0],\n",
    " [0, 0, 0, 0, 1, 0],\n",
    " [0, 0, 1, 0, 1, 0],\n",
    " [0, 1, 1, 1, 1, 0],\n",
    " [1, 1, 1, 1, 1, 1]]\n",
    "                                                    \n",
    "\n",
    "- Create a function that takes a skyline (2-D list of 0's and 1's) and returns the height of the tallest skyscraper.\n"
   ]
  },
  {
   "cell_type": "code",
   "execution_count": 11,
   "id": "9d46a9ab",
   "metadata": {},
   "outputs": [],
   "source": [
    "def tallest_skyscraper(lis):\n",
    "    '''\n",
    "        This Function will return tallest building in the given 2-D matrix\n",
    "    '''\n",
    "    l = len(lis)\n",
    "    size = [0 for i in range(l)]\n",
    "    for i in range(l):\n",
    "        for j in range(l):\n",
    "            size[j] += lis[i][j]\n",
    "    return max(size)"
   ]
  },
  {
   "cell_type": "code",
   "execution_count": 13,
   "id": "f7833257",
   "metadata": {},
   "outputs": [
    {
     "name": "stdout",
     "output_type": "stream",
     "text": [
      "0 0 0 0 0 0 \n",
      "0 0 0 0 1 0 \n",
      "0 0 1 0 1 0 \n",
      "0 1 1 1 1 0 \n",
      "1 1 1 1 1 1 \n",
      "--Tallest buildig hight-- :-  4\n",
      "\n",
      "0 0 0 0 \n",
      "0 0 1 0 \n",
      "1 1 1 1 \n",
      "1 1 1 1 \n",
      "--Tallest buildig hight-- :-  3\n",
      "\n",
      "1 0 0 0 0 \n",
      "1 0 1 0 0 \n",
      "1 0 1 1 0 \n",
      "1 1 1 1 1 \n",
      "1 1 1 1 1 \n",
      "--Tallest buildig hight-- :-  5\n",
      "\n"
     ]
    }
   ],
   "source": [
    "def print_bul(lis):\n",
    "    for i in lis:\n",
    "        for j in i:\n",
    "            print(j, end = \" \")\n",
    "        print()\n",
    "    \n",
    "test = [[[0, 0, 0, 0, 0, 0], [0, 0, 0, 0, 1, 0], [0, 0, 1, 0, 1, 0], [0, 1, 1, 1, 1, 0], [1, 1, 1, 1, 1, 1]],\n",
    "        [[0,0,0,0],[0,0,1,0],[1,1,1,1],[1,1,1,1]],\n",
    "        [[1,0,0,0,0],[1,0,1,0,0],[1,0,1,1,0],[1,1,1,1,1],[1,1,1,1,1]]\n",
    "       ]\n",
    "for lis in test:\n",
    "    print_bul(lis)\n",
    "    print(\"--Tallest buildig hight-- :- \", tallest_skyscraper(lis))\n",
    "    print()"
   ]
  },
  {
   "cell_type": "markdown",
   "id": "cfdef2fe",
   "metadata": {},
   "source": [
    "- 4. A number is said to be Disarium if the sum of its digits raised to their respective positions is the number itself.\n",
    "\n",
    "    Create a function that determines whether a number is a Disarium or not."
   ]
  },
  {
   "cell_type": "code",
   "execution_count": 18,
   "id": "fb4d423a",
   "metadata": {},
   "outputs": [],
   "source": [
    "def is_disarium(num):\n",
    "    '''\n",
    "        Check wether number is disarium or not\n",
    "    '''\n",
    "    l = len(str(num))\n",
    "    a, val = num, 0\n",
    "    while a:\n",
    "        val += math.pow(a%10, l)\n",
    "        a, l = a//10, l-1\n",
    "    return num==val"
   ]
  },
  {
   "cell_type": "code",
   "execution_count": 20,
   "id": "95ffffa3",
   "metadata": {},
   "outputs": [
    {
     "name": "stdout",
     "output_type": "stream",
     "text": [
      "135   :   True\n",
      "101   :   False\n",
      "518   :   True\n",
      "211   :   False\n",
      "8   :   True\n"
     ]
    }
   ],
   "source": [
    "num = [135,101,518,211,8]\n",
    "for i in num:\n",
    "    print(i, \"  :  \",is_disarium(i))"
   ]
  },
  {
   "cell_type": "markdown",
   "id": "815f0d18",
   "metadata": {},
   "source": [
    "- 5. A financial institution provides professional services to banks and claims charges from the customers based on the number of man-days provided. Internally, it has set a scheme to motivate and reward staff to meet and exceed targeted billable utilization and revenues by paying a bonus for each day claimed from customers in excess of a threshold target.\n",
    "\n",
    "    This quarterly scheme is calculated with a threshold target of 32 days per quarter, and the incentive payment for each billable day in excess of such threshold target is shown as follows:\n",
    "\n",
    "    Days\t                             Bonus\n",
    "                0 to 32 days\t                   Zero\n",
    "                33 to 40 days\t         SGD$325 per billable day\n",
    "                41 to 48 days\t         SGD$550 per billable day\n",
    "                Greater than 48 days      SGD$600 per billable day\n",
    "\n",
    "    Please note that incentive payment is calculated progressively. As an example, if an employee reached total billable days of 45 in a quarter, his/her incentive payment is computed as follows:\n",
    "\n",
    "    32*0 + 8*325 + 5*550 = 5350\n",
    "\n",
    "- Write a function to read the billable days of an employee and return the bonus he/she has obtained in that quarter.\n"
   ]
  },
  {
   "cell_type": "code",
   "execution_count": null,
   "id": "18255118",
   "metadata": {},
   "outputs": [],
   "source": [
    "def bonus(num):\n",
    "    summ = 0\n",
    "    if num>48:\n",
    "        summ = 7000 + (num-48)*600\n",
    "    if num>40 and num<=48:\n",
    "        summ = 2600 +(num-40)*550\n",
    "    if num>32 and num<=40:\n",
    "        summ = (num - 32)*325\n",
    "    "
   ]
  }
 ],
 "metadata": {
  "kernelspec": {
   "display_name": "Python 3 (ipykernel)",
   "language": "python",
   "name": "python3"
  },
  "language_info": {
   "codemirror_mode": {
    "name": "ipython",
    "version": 3
   },
   "file_extension": ".py",
   "mimetype": "text/x-python",
   "name": "python",
   "nbconvert_exporter": "python",
   "pygments_lexer": "ipython3",
   "version": "3.9.7"
  }
 },
 "nbformat": 4,
 "nbformat_minor": 5
}
