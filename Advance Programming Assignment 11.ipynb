{
 "cells": [
  {
   "cell_type": "markdown",
   "id": "77edbfd8",
   "metadata": {},
   "source": [
    "# Assignment 11"
   ]
  },
  {
   "cell_type": "markdown",
   "id": "18e6c44b",
   "metadata": {},
   "source": [
    "- 1. Create a function that takes a list and returns a new list containing only prime numbers."
   ]
  },
  {
   "cell_type": "code",
   "execution_count": 16,
   "id": "1e4dfa2a",
   "metadata": {},
   "outputs": [],
   "source": [
    "from math import sqrt\n",
    "def is_prime(num):\n",
    "    root_num = int(sqrt(num)) + 1\n",
    "    for i in range(2,root_num):\n",
    "        if num%i == 0:\n",
    "            return False\n",
    "    return True\n",
    "\n",
    "def filter_primes(numList):\n",
    "    ans_list = []\n",
    "    for i in numList:\n",
    "        if is_prime(i):\n",
    "            ans_list.append(i)\n",
    "    return ans_list"
   ]
  },
  {
   "cell_type": "code",
   "execution_count": 17,
   "id": "47d145a9",
   "metadata": {},
   "outputs": [
    {
     "name": "stdout",
     "output_type": "stream",
     "text": [
      "[7, 9, 3, 9, 10, 11, 27] ---> [7, 3, 11]\n",
      "[10007, 1009, 1007, 27, 147, 77, 1001, 70] ---> [10007, 1009]\n",
      "[1009, 10, 10, 10, 3, 33, 9, 4, 1, 61, 63, 69, 1087, 1091, 1093, 1097] ---> [1009, 3, 1, 61, 1087, 1091, 1093, 1097]\n"
     ]
    }
   ],
   "source": [
    "test_list = [[7, 9, 3, 9, 10, 11, 27], [10007, 1009, 1007, 27, 147, 77, 1001, 70],\n",
    "                [1009, 10, 10, 10, 3, 33, 9, 4, 1, 61, 63, 69, 1087, 1091, 1093, 1097]]\n",
    "\n",
    "for lis in test_list:\n",
    "    print(lis,\"--->\",filter_primes(lis))"
   ]
  },
  {
   "cell_type": "markdown",
   "id": "1a242b73",
   "metadata": {},
   "source": [
    "- 2. Once a water balloon pops, is soaks the area around it. The ground gets drier the further away you travel from the balloon.\n",
    "\n",
    "    The effect of a water balloon popping can be modeled using a list. Create a function that takes a list which takes the pre-pop state and returns the state after the balloon is popped. The pre-pop state will contain at most a single balloon, whose size is represented by the only non-zero element."
   ]
  },
  {
   "cell_type": "code",
   "execution_count": 18,
   "id": "b44c3cd9",
   "metadata": {},
   "outputs": [],
   "source": [
    "def pop(numList):\n",
    "    num = max(numList)\n",
    "    posL = posR = numList.index(num)\n",
    "    \n",
    "    while(num!=0):\n",
    "        posL -= 1\n",
    "        posR += 1\n",
    "        num -= 1\n",
    "        numList[posL] = num\n",
    "        numList[posR] = num"
   ]
  },
  {
   "cell_type": "code",
   "execution_count": 19,
   "id": "1129180a",
   "metadata": {},
   "outputs": [
    {
     "name": "stdout",
     "output_type": "stream",
     "text": [
      "[0, 0, 0, 0, 4, 0, 0, 0, 0]------>[0, 1, 2, 3, 4, 3, 2, 1, 0]\n",
      "[0, 0, 0, 3, 0, 0, 0]------>[0, 1, 2, 3, 2, 1, 0]\n",
      "[0, 0, 2, 0, 0]------>[0, 1, 2, 1, 0]\n",
      "[0]------>[0]\n"
     ]
    }
   ],
   "source": [
    "test_list = [[0, 0, 0, 0, 4, 0, 0, 0, 0], [0, 0, 0, 3, 0, 0, 0], [0, 0, 2, 0, 0], [0]]\n",
    "for i in test_list:\n",
    "    a = i\n",
    "    print(a, end = \"------>\")\n",
    "    pop(a)\n",
    "    print(a)"
   ]
  },
  {
   "cell_type": "markdown",
   "id": "309c68aa",
   "metadata": {},
   "source": [
    "- 3. \"Loves me, loves me not\" is a traditional game in which a person plucks off all the petals of a flower one by one, saying the phrase \"Loves me\" and \"Loves me not\" when determining whether the one that they love, loves them back.\n",
    "\n",
    "    Given a number of petals, return a string which repeats the phrases \"Loves me\" and \"Loves me not\" for every alternating petal, and return the last phrase in all caps. Remember to put a comma and space between phrases."
   ]
  },
  {
   "cell_type": "code",
   "execution_count": 27,
   "id": "9844a099",
   "metadata": {},
   "outputs": [],
   "source": [
    "def loves_me(num):\n",
    "    string = \"\"\n",
    "    for i in range(1,num):\n",
    "        if i%2==0:\n",
    "            string += \" Loves me not,\"\n",
    "        else:\n",
    "            string += \" Loves me,\"\n",
    "    if num > 0:\n",
    "        if num%2==0:\n",
    "            string += \" LOVES ME NOT\"\n",
    "        else:\n",
    "            string += \" LOVES ME\"\n",
    "        \n",
    "    return string"
   ]
  },
  {
   "cell_type": "code",
   "execution_count": 28,
   "id": "85bd83c8",
   "metadata": {},
   "outputs": [
    {
     "name": "stdout",
     "output_type": "stream",
     "text": [
      "2 ----->  Loves me, LOVES ME NOT\n",
      "3 ----->  Loves me, Loves me not, LOVES ME\n",
      "6 ----->  Loves me, Loves me not, Loves me, Loves me not, Loves me, LOVES ME NOT\n",
      "7 ----->  Loves me, Loves me not, Loves me, Loves me not, Loves me, Loves me not, LOVES ME\n",
      "4 ----->  Loves me, Loves me not, Loves me, LOVES ME NOT\n",
      "1 ----->  LOVES ME\n",
      "0 -----> \n"
     ]
    }
   ],
   "source": [
    "numbers = [2,3,6,7,4,1,0]\n",
    "for num in numbers:\n",
    "    print(num, \"----->\", loves_me(num))"
   ]
  },
  {
   "cell_type": "markdown",
   "id": "72b706f6",
   "metadata": {},
   "source": [
    "- 4. Write a function that sorts each string in a list by the letter in alphabetic ascending order (a-z)."
   ]
  },
  {
   "cell_type": "code",
   "execution_count": 37,
   "id": "6ee2469a",
   "metadata": {},
   "outputs": [],
   "source": [
    "import re\n",
    "\n",
    "def find(st):\n",
    "    ch = re.findall(r'\\D', st)\n",
    "    return ch[0]\n",
    "\n",
    "def sort_by_letter(lis):\n",
    "    lis.sort(key = find)"
   ]
  },
  {
   "cell_type": "code",
   "execution_count": 38,
   "id": "9caf4cb3",
   "metadata": {},
   "outputs": [
    {
     "name": "stdout",
     "output_type": "stream",
     "text": [
      "['2344b', '932c', '832u32']  ------->  ['2344b', '932c', '832u32']\n",
      "['99a', '78b', 'c2345', '11d']  ------->  ['99a', '78b', 'c2345', '11d']\n",
      "['304q2', '5y5', '572z']  ------->  ['304q2', '5y5', '572z']\n",
      "[]  ------->  []\n"
     ]
    }
   ],
   "source": [
    "test_list = [[\"932c\", \"832u32\", \"2344b\"], [\"99a\", \"78b\", \"c2345\", \"11d\"], [\"572z\", \"5y5\", \"304q2\"], []]\n",
    "for i in test_list:\n",
    "    a = i\n",
    "    sort_by_letter(a)\n",
    "    print(a, \" -------> \", a)"
   ]
  },
  {
   "cell_type": "markdown",
   "id": "9f433280",
   "metadata": {},
   "source": [
    "- 5. There are three cups on a table, at positions A, B, and C. At the start, there is a ball hidden under the cup at position B.\n",
    "    However, I perform several swaps on the cups, which is notated as two letters. For example, if I swap the cups at positions A and B, I could notate this as AB or BA.\n",
    "\n",
    "    Create a function that returns the letter position that the ball is at, once I finish swapping the cups. The swaps will be given to you as a list."
   ]
  },
  {
   "cell_type": "code",
   "execution_count": 40,
   "id": "8e429d9a",
   "metadata": {},
   "outputs": [],
   "source": [
    "def cup_swapping(lis):\n",
    "    pos = \"B\"\n",
    "    for i in lis:\n",
    "        if pos in i:\n",
    "            if i[0] == pos:\n",
    "                pos = i[1]\n",
    "            else:\n",
    "                pos = i[0]\n",
    "    return pos"
   ]
  },
  {
   "cell_type": "code",
   "execution_count": 42,
   "id": "7ff1d178",
   "metadata": {},
   "outputs": [
    {
     "name": "stdout",
     "output_type": "stream",
     "text": [
      "['AB', 'BC', 'CD', 'DA'] -----> current position -----> D\n",
      "['AB', 'CD', 'AD', 'CB'] -----> current position -----> D\n",
      "['BC', 'CD', 'DA', 'AB'] -----> current position -----> B\n"
     ]
    }
   ],
   "source": [
    "test_list = [[\"AB\", \"BC\", \"CD\", \"DA\"], [\"AB\", \"CD\", \"AD\", \"CB\"], [\"BC\", \"CD\", \"DA\", \"AB\"]]\n",
    "for i in test_list:\n",
    "    print(i, \"-----> current position ----->\", cup_swapping(i))"
   ]
  }
 ],
 "metadata": {
  "kernelspec": {
   "display_name": "Python 3 (ipykernel)",
   "language": "python",
   "name": "python3"
  },
  "language_info": {
   "codemirror_mode": {
    "name": "ipython",
    "version": 3
   },
   "file_extension": ".py",
   "mimetype": "text/x-python",
   "name": "python",
   "nbconvert_exporter": "python",
   "pygments_lexer": "ipython3",
   "version": "3.9.7"
  }
 },
 "nbformat": 4,
 "nbformat_minor": 5
}
