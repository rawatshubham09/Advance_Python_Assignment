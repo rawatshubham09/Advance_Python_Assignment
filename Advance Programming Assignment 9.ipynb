{
 "cells": [
  {
   "cell_type": "markdown",
   "id": "98fdbca4",
   "metadata": {},
   "source": [
    "# Assignment 9"
   ]
  },
  {
   "cell_type": "markdown",
   "id": "8e7e3dfb",
   "metadata": {},
   "source": [
    "- 1. YouTube offers different playback speed options for users. This allows users to increase or decrease the speed of the video content. Given the actual duration and playback speed of the video, calculate the playback duration of the video."
   ]
  },
  {
   "cell_type": "code",
   "execution_count": 12,
   "id": "fc69ca23",
   "metadata": {},
   "outputs": [],
   "source": [
    "def sec_to_time(sec):\n",
    "    #Calculating Hours\n",
    "    h=sec//3600\n",
    "    sec = sec%3600\n",
    "    #calculating Minuts\n",
    "    mi = sec//60\n",
    "    sec = round(sec%60)\n",
    "    return [h,mi,sec]\n",
    "\n",
    "def playback_duration(time_st, speed_num):\n",
    "    h,m,s = map(int,time_st.split(\":\"))\n",
    "    time_sec = h*3600 + m*60 + s\n",
    "    \n",
    "    # converting time wrt speed:\n",
    "    val = int(time_sec/speed_num)\n",
    "    \n",
    "    # converting sec to time_string:\n",
    "    time_lis = sec_to_time(val)\n",
    "    \n",
    "    #This is to print time into 00:00:00 formate\n",
    "    \n",
    "    for i in range(3):\n",
    "        if time_lis[i]<10:\n",
    "            time_lis[i] = '0'+str(time_lis[i])\n",
    "        else:\n",
    "            time_lis[i] = str(time_lis[i])\n",
    "\n",
    "        \n",
    "    return f\"{time_lis[0]}:{time_lis[1]}:{time_lis[2]}\"\n",
    "    "
   ]
  },
  {
   "cell_type": "code",
   "execution_count": 14,
   "id": "39822ccb",
   "metadata": {},
   "outputs": [
    {
     "name": "stdout",
     "output_type": "stream",
     "text": [
      "01:24:30  played at the speed of 2.3  times ------> 00:36:44\n",
      "02:33:10  played at the speed of 1.2  times ------> 02:07:38\n",
      "00:00:54  played at the speed of 2  times ------> 00:00:27\n",
      "13:25:12  played at the speed of 1.5  times ------> 08:56:48\n",
      "00:00:00  played at the speed of 2  times ------> 00:00:00\n"
     ]
    }
   ],
   "source": [
    "time = [[\"01:24:30\",2.3],[\"02:33:10\",1.2],[\"00:00:54\",2],[\"13:25:12\",1.5],[\"00:00:00\",2]]\n",
    "\n",
    "for val in time:\n",
    "    print(val[0], \" played at the speed of\", val[1], \" times ------>\", playback_duration(val[0],val[1]))"
   ]
  },
  {
   "cell_type": "markdown",
   "id": "03ae7c1e",
   "metadata": {},
   "source": [
    "- 2. We needs your help to construct a building which will be a pile of n cubes. The cube at the bottom will have a volume of n^3, the cube above will have volume of (n-1)^3 and so on until the top which will have a volume of 1^3.\n",
    "\n",
    "    Given the total volume m of the building, can you find the number of cubes n required for the building?"
   ]
  },
  {
   "cell_type": "code",
   "execution_count": 31,
   "id": "e2641c62",
   "metadata": {},
   "outputs": [],
   "source": [
    "import math\n",
    "def pile_of_cubes(cube_val):\n",
    "    \"\"\"take volume of pile and return number of floor in it\n",
    "        formula = (n*(n+1)/2)^2 --> sum of cube of n natural num\n",
    "        In this I reversed it to find value of n\"\"\"\n",
    "    num = math.sqrt(cube_val)\n",
    "    if num%1 != 0:\n",
    "        return 'None'\n",
    "    num = num*2\n",
    "    \n",
    "    count = 1\n",
    "    while count*(count+1) != num :\n",
    "        if count*(count + 1) > num:\n",
    "            return 'None'\n",
    "        count +=1\n",
    "    return count"
   ]
  },
  {
   "cell_type": "code",
   "execution_count": 32,
   "id": "d0fe3c2b",
   "metadata": {},
   "outputs": [
    {
     "name": "stdout",
     "output_type": "stream",
     "text": [
      "4183059834009 : no's of floor is = 2022\n",
      "1071225 : no's of floor is = 45\n",
      "16 : no's of floor is = None\n"
     ]
    }
   ],
   "source": [
    "test_cube = [4183059834009, 1071225, 16]\n",
    "\n",
    "for val in test_cube:\n",
    "    print(val, \": no's of floor is =\",pile_of_cubes(val))"
   ]
  },
  {
   "cell_type": "markdown",
   "id": "86505d21",
   "metadata": {},
   "source": [
    "- 3. A fulcrum of a list is an integer such that all elements to the left of it and all elements to the right of it sum to the same value. Write a function that finds the fulcrum of a list."
   ]
  },
  {
   "cell_type": "code",
   "execution_count": 40,
   "id": "fece7741",
   "metadata": {},
   "outputs": [],
   "source": [
    "pass"
   ]
  },
  {
   "cell_type": "markdown",
   "id": "46dd0992",
   "metadata": {},
   "source": [
    "4. Given a list of integers representing the color of each sock, determine how many pairs of socks with matching colors there are. For example, there are 7 socks with colors [1, 2, 1, 2, 1, 3, 2]. There is one pair of color 1 and one of color 2. There are three odd socks left, one of each color. The number of pairs is 2.\n",
    "\n",
    "    Create a function that returns an integer representing the number of matching pairs of socks that are available.\n"
   ]
  },
  {
   "cell_type": "code",
   "execution_count": 3,
   "id": "ed933404",
   "metadata": {},
   "outputs": [],
   "source": [
    "from collections import Counter\n",
    "def sock_merchant(lis):\n",
    "    counter_dict = Counter(lis)\n",
    "    count = 0\n",
    "    for value in counter_dict.values():\n",
    "        count += value//2\n",
    "    return count"
   ]
  },
  {
   "cell_type": "code",
   "execution_count": 8,
   "id": "83327bdd",
   "metadata": {},
   "outputs": [
    {
     "name": "stdout",
     "output_type": "stream",
     "text": [
      "[2, 1, 2, 3, 3, 1, 5, 2] list ---> 3\n",
      "[2, 2, 2, 2, 2, 2, 2, 2, 2, 2, 2, 2, 2, 2] list ---> 7\n",
      "[1, 1, 1, 1, 1, 2, 2, 2, 2, 3, 2, 3, 33] list ---> 5\n",
      "[] list ---> 0\n"
     ]
    }
   ],
   "source": [
    "test_list = [[2,1,2,3,3,1,5,2], [2,2,2,2,2,2,2,2,2,2,2,2,2,2], [1,1,1,1,1,2,2,2,2,3,2,3,33], []]\n",
    "for i in test_list:\n",
    "    print(f\"{i} list ---> {sock_merchant(i)}\")"
   ]
  },
  {
   "cell_type": "markdown",
   "id": "06a4bd55",
   "metadata": {},
   "source": [
    "- 5. Create a function that takes a string containing integers as well as other characters and return the sum of the negative integers only."
   ]
  },
  {
   "cell_type": "code",
   "execution_count": 36,
   "id": "0f646fff",
   "metadata": {},
   "outputs": [],
   "source": [
    "import re\n",
    "def negative_sum(string):\n",
    "    neg_list = list(map(int,re.findall(r'-\\d*',string)))\n",
    "    return sum(neg_list)"
   ]
  },
  {
   "cell_type": "code",
   "execution_count": 37,
   "id": "35636d82",
   "metadata": {},
   "outputs": [
    {
     "data": {
      "text/plain": [
       "-23"
      ]
     },
     "execution_count": 37,
     "metadata": {},
     "output_type": "execute_result"
    }
   ],
   "source": [
    "negative_sum(\"-12 13%14&-11\")"
   ]
  },
  {
   "cell_type": "code",
   "execution_count": 38,
   "id": "de278d4b",
   "metadata": {},
   "outputs": [
    {
     "data": {
      "text/plain": [
       "-33"
      ]
     },
     "execution_count": 38,
     "metadata": {},
     "output_type": "execute_result"
    }
   ],
   "source": [
    "negative_sum(\"22 13%14&-11-22 13 12\")"
   ]
  }
 ],
 "metadata": {
  "kernelspec": {
   "display_name": "Python 3 (ipykernel)",
   "language": "python",
   "name": "python3"
  },
  "language_info": {
   "codemirror_mode": {
    "name": "ipython",
    "version": 3
   },
   "file_extension": ".py",
   "mimetype": "text/x-python",
   "name": "python",
   "nbconvert_exporter": "python",
   "pygments_lexer": "ipython3",
   "version": "3.9.7"
  }
 },
 "nbformat": 4,
 "nbformat_minor": 5
}
